{
 "cells": [
  {
   "cell_type": "code",
   "execution_count": 115,
   "metadata": {
    "vscode": {
     "languageId": "r"
    }
   },
   "outputs": [
    {
     "name": "stdout",
     "output_type": "stream",
     "text": [
      "Importing libraries: data.table, igraph\n",
      "\n",
      "    Utils are loaded! ^_^ \n",
      "\n",
      "    Useful objects:\n",
      "\n",
      "    \tload_data\n",
      "\n",
      "    \tsignatures_and_splits\n",
      "\n",
      "    \tfisher_wrt_splits\n",
      "    "
     ]
    }
   ],
   "source": [
    "source(\"/home/PERSONALE/federico.magnani9/gepoh/utils.r\")"
   ]
  },
  {
   "cell_type": "code",
   "execution_count": 116,
   "metadata": {
    "vscode": {
     "languageId": "r"
    }
   },
   "outputs": [
    {
     "data": {
      "text/html": [
       "<style>\n",
       ".list-inline {list-style: none; margin:0; padding: 0}\n",
       ".list-inline>li {display: inline-block}\n",
       ".list-inline>li:not(:last-child)::after {content: \"\\00b7\"; padding: 0 .5ex}\n",
       "</style>\n",
       "<ol class=list-inline><li>'diseases'</li><li>'tfs'</li><li>'genes'</li><li>'binary_networks'</li><li>'triclusters'</li><li>'signatures'</li><li>'splits'</li><li>'fisher_wrt_splits'</li><li>'network_stats'</li></ol>\n"
      ],
      "text/latex": [
       "\\begin{enumerate*}\n",
       "\\item 'diseases'\n",
       "\\item 'tfs'\n",
       "\\item 'genes'\n",
       "\\item 'binary\\_networks'\n",
       "\\item 'triclusters'\n",
       "\\item 'signatures'\n",
       "\\item 'splits'\n",
       "\\item 'fisher\\_wrt\\_splits'\n",
       "\\item 'network\\_stats'\n",
       "\\end{enumerate*}\n"
      ],
      "text/markdown": [
       "1. 'diseases'\n",
       "2. 'tfs'\n",
       "3. 'genes'\n",
       "4. 'binary_networks'\n",
       "5. 'triclusters'\n",
       "6. 'signatures'\n",
       "7. 'splits'\n",
       "8. 'fisher_wrt_splits'\n",
       "9. 'network_stats'\n",
       "\n",
       "\n"
      ],
      "text/plain": [
       "[1] \"diseases\"          \"tfs\"               \"genes\"            \n",
       "[4] \"binary_networks\"   \"triclusters\"       \"signatures\"       \n",
       "[7] \"splits\"            \"fisher_wrt_splits\" \"network_stats\"    "
      ]
     },
     "metadata": {},
     "output_type": "display_data"
    },
    {
     "data": {
      "text/html": [
       "'load_disregnet_tensor'"
      ],
      "text/latex": [
       "'load\\_disregnet\\_tensor'"
      ],
      "text/markdown": [
       "'load_disregnet_tensor'"
      ],
      "text/plain": [
       "[1] \"load_disregnet_tensor\""
      ]
     },
     "metadata": {},
     "output_type": "display_data"
    },
    {
     "data": {
      "text/html": [
       "<style>\n",
       ".list-inline {list-style: none; margin:0; padding: 0}\n",
       ".list-inline>li {display: inline-block}\n",
       ".list-inline>li:not(:last-child)::after {content: \"\\00b7\"; padding: 0 .5ex}\n",
       "</style>\n",
       "<ol class=list-inline><li>'diseases2code'</li><li>'perform_fisher'</li><li>'aggregate_triclusters'</li><li>'network_stats'</li></ol>\n"
      ],
      "text/latex": [
       "\\begin{enumerate*}\n",
       "\\item 'diseases2code'\n",
       "\\item 'perform\\_fisher'\n",
       "\\item 'aggregate\\_triclusters'\n",
       "\\item 'network\\_stats'\n",
       "\\end{enumerate*}\n"
      ],
      "text/markdown": [
       "1. 'diseases2code'\n",
       "2. 'perform_fisher'\n",
       "3. 'aggregate_triclusters'\n",
       "4. 'network_stats'\n",
       "\n",
       "\n"
      ],
      "text/plain": [
       "[1] \"diseases2code\"         \"perform_fisher\"        \"aggregate_triclusters\"\n",
       "[4] \"network_stats\"        "
      ]
     },
     "metadata": {},
     "output_type": "display_data"
    }
   ],
   "source": [
    "names(load_data)\n",
    "names(signatures_and_splits)\n",
    "names(fisher_wrt_splits)\n",
    "\n",
    "diseases <- load_data$diseases()\n",
    "tfs <- load_data$tfs()\n",
    "genes <- load_data$genes()\n",
    "triclusters_df <- load_data$triclusters()\n",
    "binary_networks <- load_data$binary_networks()\n",
    "splits <- load_data$splits()\n",
    "fisher_test <- load_data$fisher_wrt_splits()\n",
    "network_stats <- load_data$network_stats()\n"
   ]
  },
  {
   "cell_type": "markdown",
   "metadata": {},
   "source": [
    "# Compute Signatures and Splits"
   ]
  },
  {
   "cell_type": "code",
   "execution_count": 42,
   "metadata": {
    "vscode": {
     "languageId": "r"
    }
   },
   "outputs": [],
   "source": [
    "# Make tensor with dimensions: diseases, genes, tfs\n",
    "disregnets <- signatures_and_splits$load_disregnet_tensor()"
   ]
  },
  {
   "cell_type": "code",
   "execution_count": 51,
   "metadata": {
    "vscode": {
     "languageId": "r"
    }
   },
   "outputs": [],
   "source": [
    "# Collapse tensor wrt diseases, saving in each entry of the resulting matrix the string code of the entries in the diseases direction\n",
    "signatures <- as.data.frame(apply(disregnets, c(2,3), signatures_and_splits$get_signature))\n",
    "colnames(signatures) <- tfs\n",
    "rownames(signatures) <- genes\n",
    "signatures <- t(signatures)"
   ]
  },
  {
   "cell_type": "code",
   "execution_count": 60,
   "metadata": {
    "vscode": {
     "languageId": "r"
    }
   },
   "outputs": [
    {
     "data": {
      "text/html": [
       "<table class=\"dataframe\">\n",
       "<caption>A matrix: 6 × 9 of type chr</caption>\n",
       "<thead>\n",
       "\t<tr><th></th><th scope=col>A1BG</th><th scope=col>A1BG-AS1</th><th scope=col>A1CF</th><th scope=col>A2M</th><th scope=col>A2M-AS1</th><th scope=col>A2ML1</th><th scope=col>A4GALT</th><th scope=col>A4GNT</th><th scope=col>AA06</th></tr>\n",
       "</thead>\n",
       "<tbody>\n",
       "\t<tr><th scope=row>AC023509.3</th><td>1111111111111</td><td>1111111111111</td><td>0000000000000</td><td>0000000000000</td><td>1111111111111</td><td>0000000000000</td><td>1111111111111</td><td>0000000000000</td><td>0000000000000</td></tr>\n",
       "\t<tr><th scope=row>AC138696.1</th><td>0000000000000</td><td>0000000000000</td><td>0000000000000</td><td>0000000000000</td><td>1000000000000</td><td>0000000000000</td><td>0000100100000</td><td>0000000000000</td><td>0000000000000</td></tr>\n",
       "\t<tr><th scope=row>AHR</th><td>0000000000000</td><td>0000000000000</td><td>0000000000000</td><td>0000000000000</td><td>1000000000000</td><td>0000000000000</td><td>0000100100000</td><td>0000000000000</td><td>0000000000000</td></tr>\n",
       "\t<tr><th scope=row>AHRR</th><td>0000000000000</td><td>0000000000000</td><td>0000000000000</td><td>0000000000000</td><td>1000000000000</td><td>0000000000000</td><td>0000100100000</td><td>0000000000000</td><td>0000000000000</td></tr>\n",
       "\t<tr><th scope=row>AIRE</th><td>0000000000000</td><td>0000000000000</td><td>0000000000000</td><td>0000000000000</td><td>1000000000000</td><td>0000000000000</td><td>0000100100000</td><td>1111111111111</td><td>0000000000000</td></tr>\n",
       "\t<tr><th scope=row>ALX1</th><td>0000000000000</td><td>0000000000000</td><td>0000000000000</td><td>0000000000000</td><td>1000000000000</td><td>0000000000000</td><td>0000100100000</td><td>0000000000000</td><td>0000000000000</td></tr>\n",
       "</tbody>\n",
       "</table>\n"
      ],
      "text/latex": [
       "A matrix: 6 × 9 of type chr\n",
       "\\begin{tabular}{r|lllllllll}\n",
       "  & A1BG & A1BG-AS1 & A1CF & A2M & A2M-AS1 & A2ML1 & A4GALT & A4GNT & AA06\\\\\n",
       "\\hline\n",
       "\tAC023509.3 & 1111111111111 & 1111111111111 & 0000000000000 & 0000000000000 & 1111111111111 & 0000000000000 & 1111111111111 & 0000000000000 & 0000000000000\\\\\n",
       "\tAC138696.1 & 0000000000000 & 0000000000000 & 0000000000000 & 0000000000000 & 1000000000000 & 0000000000000 & 0000100100000 & 0000000000000 & 0000000000000\\\\\n",
       "\tAHR & 0000000000000 & 0000000000000 & 0000000000000 & 0000000000000 & 1000000000000 & 0000000000000 & 0000100100000 & 0000000000000 & 0000000000000\\\\\n",
       "\tAHRR & 0000000000000 & 0000000000000 & 0000000000000 & 0000000000000 & 1000000000000 & 0000000000000 & 0000100100000 & 0000000000000 & 0000000000000\\\\\n",
       "\tAIRE & 0000000000000 & 0000000000000 & 0000000000000 & 0000000000000 & 1000000000000 & 0000000000000 & 0000100100000 & 1111111111111 & 0000000000000\\\\\n",
       "\tALX1 & 0000000000000 & 0000000000000 & 0000000000000 & 0000000000000 & 1000000000000 & 0000000000000 & 0000100100000 & 0000000000000 & 0000000000000\\\\\n",
       "\\end{tabular}\n"
      ],
      "text/markdown": [
       "\n",
       "A matrix: 6 × 9 of type chr\n",
       "\n",
       "| <!--/--> | A1BG | A1BG-AS1 | A1CF | A2M | A2M-AS1 | A2ML1 | A4GALT | A4GNT | AA06 |\n",
       "|---|---|---|---|---|---|---|---|---|---|\n",
       "| AC023509.3 | 1111111111111 | 1111111111111 | 0000000000000 | 0000000000000 | 1111111111111 | 0000000000000 | 1111111111111 | 0000000000000 | 0000000000000 |\n",
       "| AC138696.1 | 0000000000000 | 0000000000000 | 0000000000000 | 0000000000000 | 1000000000000 | 0000000000000 | 0000100100000 | 0000000000000 | 0000000000000 |\n",
       "| AHR | 0000000000000 | 0000000000000 | 0000000000000 | 0000000000000 | 1000000000000 | 0000000000000 | 0000100100000 | 0000000000000 | 0000000000000 |\n",
       "| AHRR | 0000000000000 | 0000000000000 | 0000000000000 | 0000000000000 | 1000000000000 | 0000000000000 | 0000100100000 | 0000000000000 | 0000000000000 |\n",
       "| AIRE | 0000000000000 | 0000000000000 | 0000000000000 | 0000000000000 | 1000000000000 | 0000000000000 | 0000100100000 | 1111111111111 | 0000000000000 |\n",
       "| ALX1 | 0000000000000 | 0000000000000 | 0000000000000 | 0000000000000 | 1000000000000 | 0000000000000 | 0000100100000 | 0000000000000 | 0000000000000 |\n",
       "\n"
      ],
      "text/plain": [
       "           A1BG          A1BG-AS1      A1CF          A2M          \n",
       "AC023509.3 1111111111111 1111111111111 0000000000000 0000000000000\n",
       "AC138696.1 0000000000000 0000000000000 0000000000000 0000000000000\n",
       "AHR        0000000000000 0000000000000 0000000000000 0000000000000\n",
       "AHRR       0000000000000 0000000000000 0000000000000 0000000000000\n",
       "AIRE       0000000000000 0000000000000 0000000000000 0000000000000\n",
       "ALX1       0000000000000 0000000000000 0000000000000 0000000000000\n",
       "           A2M-AS1       A2ML1         A4GALT        A4GNT        \n",
       "AC023509.3 1111111111111 0000000000000 1111111111111 0000000000000\n",
       "AC138696.1 1000000000000 0000000000000 0000100100000 0000000000000\n",
       "AHR        1000000000000 0000000000000 0000100100000 0000000000000\n",
       "AHRR       1000000000000 0000000000000 0000100100000 0000000000000\n",
       "AIRE       1000000000000 0000000000000 0000100100000 1111111111111\n",
       "ALX1       1000000000000 0000000000000 0000100100000 0000000000000\n",
       "           AA06         \n",
       "AC023509.3 0000000000000\n",
       "AC138696.1 0000000000000\n",
       "AHR        0000000000000\n",
       "AHRR       0000000000000\n",
       "AIRE       0000000000000\n",
       "ALX1       0000000000000"
      ]
     },
     "metadata": {},
     "output_type": "display_data"
    }
   ],
   "source": [
    "signatures[1:6,1:9]\n",
    "\n",
    "results_path <- \"/home/PERSONALE/federico.magnani9/gepoh/main_results/\"\n",
    "write.csv(signatures, paste(results_path, \"signatures.csv\", sep=''))"
   ]
  },
  {
   "cell_type": "code",
   "execution_count": 61,
   "metadata": {
    "vscode": {
     "languageId": "r"
    }
   },
   "outputs": [
    {
     "data": {
      "text/html": [
       "<table class=\"dataframe\">\n",
       "<caption>A matrix: 6 × 9 of type chr</caption>\n",
       "<thead>\n",
       "\t<tr><th></th><th scope=col>A1BG</th><th scope=col>A1BG-AS1</th><th scope=col>A1CF</th><th scope=col>A2M</th><th scope=col>A2M-AS1</th><th scope=col>A2ML1</th><th scope=col>A4GALT</th><th scope=col>A4GNT</th><th scope=col>AA06</th></tr>\n",
       "</thead>\n",
       "<tbody>\n",
       "\t<tr><th scope=row>AC023509.3</th><td>1111111111111</td><td>1111111111111</td><td>1111111111111</td><td>1111111111111</td><td>1111111111111</td><td>1111111111111</td><td>1111111111111</td><td>1111111111111</td><td>1111111111111</td></tr>\n",
       "\t<tr><th scope=row>AC138696.1</th><td>1111111111111</td><td>1111111111111</td><td>1111111111111</td><td>1111111111111</td><td>0111111111111</td><td>1111111111111</td><td>1111011011111</td><td>1111111111111</td><td>1111111111111</td></tr>\n",
       "\t<tr><th scope=row>AHR</th><td>1111111111111</td><td>1111111111111</td><td>1111111111111</td><td>1111111111111</td><td>0111111111111</td><td>1111111111111</td><td>1111011011111</td><td>1111111111111</td><td>1111111111111</td></tr>\n",
       "\t<tr><th scope=row>AHRR</th><td>1111111111111</td><td>1111111111111</td><td>1111111111111</td><td>1111111111111</td><td>0111111111111</td><td>1111111111111</td><td>1111011011111</td><td>1111111111111</td><td>1111111111111</td></tr>\n",
       "\t<tr><th scope=row>AIRE</th><td>1111111111111</td><td>1111111111111</td><td>1111111111111</td><td>1111111111111</td><td>0111111111111</td><td>1111111111111</td><td>1111011011111</td><td>1111111111111</td><td>1111111111111</td></tr>\n",
       "\t<tr><th scope=row>ALX1</th><td>1111111111111</td><td>1111111111111</td><td>1111111111111</td><td>1111111111111</td><td>0111111111111</td><td>1111111111111</td><td>1111011011111</td><td>1111111111111</td><td>1111111111111</td></tr>\n",
       "</tbody>\n",
       "</table>\n"
      ],
      "text/latex": [
       "A matrix: 6 × 9 of type chr\n",
       "\\begin{tabular}{r|lllllllll}\n",
       "  & A1BG & A1BG-AS1 & A1CF & A2M & A2M-AS1 & A2ML1 & A4GALT & A4GNT & AA06\\\\\n",
       "\\hline\n",
       "\tAC023509.3 & 1111111111111 & 1111111111111 & 1111111111111 & 1111111111111 & 1111111111111 & 1111111111111 & 1111111111111 & 1111111111111 & 1111111111111\\\\\n",
       "\tAC138696.1 & 1111111111111 & 1111111111111 & 1111111111111 & 1111111111111 & 0111111111111 & 1111111111111 & 1111011011111 & 1111111111111 & 1111111111111\\\\\n",
       "\tAHR & 1111111111111 & 1111111111111 & 1111111111111 & 1111111111111 & 0111111111111 & 1111111111111 & 1111011011111 & 1111111111111 & 1111111111111\\\\\n",
       "\tAHRR & 1111111111111 & 1111111111111 & 1111111111111 & 1111111111111 & 0111111111111 & 1111111111111 & 1111011011111 & 1111111111111 & 1111111111111\\\\\n",
       "\tAIRE & 1111111111111 & 1111111111111 & 1111111111111 & 1111111111111 & 0111111111111 & 1111111111111 & 1111011011111 & 1111111111111 & 1111111111111\\\\\n",
       "\tALX1 & 1111111111111 & 1111111111111 & 1111111111111 & 1111111111111 & 0111111111111 & 1111111111111 & 1111011011111 & 1111111111111 & 1111111111111\\\\\n",
       "\\end{tabular}\n"
      ],
      "text/markdown": [
       "\n",
       "A matrix: 6 × 9 of type chr\n",
       "\n",
       "| <!--/--> | A1BG | A1BG-AS1 | A1CF | A2M | A2M-AS1 | A2ML1 | A4GALT | A4GNT | AA06 |\n",
       "|---|---|---|---|---|---|---|---|---|---|\n",
       "| AC023509.3 | 1111111111111 | 1111111111111 | 1111111111111 | 1111111111111 | 1111111111111 | 1111111111111 | 1111111111111 | 1111111111111 | 1111111111111 |\n",
       "| AC138696.1 | 1111111111111 | 1111111111111 | 1111111111111 | 1111111111111 | 0111111111111 | 1111111111111 | 1111011011111 | 1111111111111 | 1111111111111 |\n",
       "| AHR | 1111111111111 | 1111111111111 | 1111111111111 | 1111111111111 | 0111111111111 | 1111111111111 | 1111011011111 | 1111111111111 | 1111111111111 |\n",
       "| AHRR | 1111111111111 | 1111111111111 | 1111111111111 | 1111111111111 | 0111111111111 | 1111111111111 | 1111011011111 | 1111111111111 | 1111111111111 |\n",
       "| AIRE | 1111111111111 | 1111111111111 | 1111111111111 | 1111111111111 | 0111111111111 | 1111111111111 | 1111011011111 | 1111111111111 | 1111111111111 |\n",
       "| ALX1 | 1111111111111 | 1111111111111 | 1111111111111 | 1111111111111 | 0111111111111 | 1111111111111 | 1111011011111 | 1111111111111 | 1111111111111 |\n",
       "\n"
      ],
      "text/plain": [
       "           A1BG          A1BG-AS1      A1CF          A2M          \n",
       "AC023509.3 1111111111111 1111111111111 1111111111111 1111111111111\n",
       "AC138696.1 1111111111111 1111111111111 1111111111111 1111111111111\n",
       "AHR        1111111111111 1111111111111 1111111111111 1111111111111\n",
       "AHRR       1111111111111 1111111111111 1111111111111 1111111111111\n",
       "AIRE       1111111111111 1111111111111 1111111111111 1111111111111\n",
       "ALX1       1111111111111 1111111111111 1111111111111 1111111111111\n",
       "           A2M-AS1       A2ML1         A4GALT        A4GNT        \n",
       "AC023509.3 1111111111111 1111111111111 1111111111111 1111111111111\n",
       "AC138696.1 0111111111111 1111111111111 1111011011111 1111111111111\n",
       "AHR        0111111111111 1111111111111 1111011011111 1111111111111\n",
       "AHRR       0111111111111 1111111111111 1111011011111 1111111111111\n",
       "AIRE       0111111111111 1111111111111 1111011011111 1111111111111\n",
       "ALX1       0111111111111 1111111111111 1111011011111 1111111111111\n",
       "           AA06         \n",
       "AC023509.3 1111111111111\n",
       "AC138696.1 1111111111111\n",
       "AHR        1111111111111\n",
       "AHRR       1111111111111\n",
       "AIRE       1111111111111\n",
       "ALX1       1111111111111"
      ]
     },
     "metadata": {},
     "output_type": "display_data"
    }
   ],
   "source": [
    "splits <- apply(signatures, MARGIN=c(1,2), FUN=signatures_and_splits$signature2split)\n",
    "\n",
    "splits[1:6,1:9]\n",
    "\n",
    "results_path <- \"/home/PERSONALE/federico.magnani9/gepoh/main_results/\"\n",
    "write.csv(splits, paste(results_path, \"splits.csv\", sep=''))"
   ]
  },
  {
   "cell_type": "markdown",
   "metadata": {},
   "source": [
    "# Perform Fisher's test with splits"
   ]
  },
  {
   "cell_type": "code",
   "execution_count": 125,
   "metadata": {
    "vscode": {
     "languageId": "r"
    }
   },
   "outputs": [
    {
     "name": "stderr",
     "output_type": "stream",
     "text": [
      "iteartion 1000/23624...\n",
      "\n",
      "iteartion 2000/23624...\n",
      "\n",
      "iteartion 3000/23624...\n",
      "\n",
      "iteartion 4000/23624...\n",
      "\n",
      "iteartion 5000/23624...\n",
      "\n",
      "iteartion 6000/23624...\n",
      "\n",
      "iteartion 7000/23624...\n",
      "\n",
      "iteartion 8000/23624...\n",
      "\n",
      "iteartion 9000/23624...\n",
      "\n",
      "iteartion 10000/23624...\n",
      "\n",
      "iteartion 11000/23624...\n",
      "\n",
      "iteartion 12000/23624...\n",
      "\n",
      "iteartion 13000/23624...\n",
      "\n",
      "iteartion 14000/23624...\n",
      "\n",
      "iteartion 15000/23624...\n",
      "\n",
      "iteartion 16000/23624...\n",
      "\n",
      "iteartion 17000/23624...\n",
      "\n",
      "iteartion 18000/23624...\n",
      "\n",
      "iteartion 19000/23624...\n",
      "\n",
      "iteartion 20000/23624...\n",
      "\n",
      "iteartion 21000/23624...\n",
      "\n",
      "iteartion 22000/23624...\n",
      "\n",
      "iteartion 23000/23624...\n",
      "\n"
     ]
    },
    {
     "data": {
      "text/html": [
       "<table class=\"dataframe\">\n",
       "<caption>A data.frame: 6 × 6</caption>\n",
       "<thead>\n",
       "\t<tr><th></th><th scope=col>diseases</th><th scope=col>clusterIn</th><th scope=col>notClusterIn</th><th scope=col>clusterOut</th><th scope=col>notClusterOut</th><th scope=col>pval</th></tr>\n",
       "\t<tr><th></th><th scope=col>&lt;chr&gt;</th><th scope=col>&lt;dbl&gt;</th><th scope=col>&lt;dbl&gt;</th><th scope=col>&lt;dbl&gt;</th><th scope=col>&lt;dbl&gt;</th><th scope=col>&lt;dbl&gt;</th></tr>\n",
       "</thead>\n",
       "<tbody>\n",
       "\t<tr><th scope=row>1</th><td>ALL,AML,BL,CLL,CML,DLBCL,FL,HL,MCL,MDS,MM,MZLs,PTCL</td><td>7495092</td><td>      0</td><td> 7211034</td><td> 3792024</td><td>0</td></tr>\n",
       "\t<tr><th scope=row>2</th><td>ALL,AML,BL,CLL,CML,DLBCL,FL,HL,MCL,MDS,MM,MZLs,PTCL</td><td>2433816</td><td>      0</td><td>12272310</td><td> 3792024</td><td>0</td></tr>\n",
       "\t<tr><th scope=row>3</th><td>ALL,AML,BL,CLL,CML,DLBCL,HL,MCL,MDS,MM,MZLs,PTCL   </td><td>  17260</td><td> 101808</td><td>  213059</td><td>18166023</td><td>0</td></tr>\n",
       "\t<tr><th scope=row>4</th><td>ALL,AML,BL,CLL,CML,DLBCL,FL,HL,MCL,MDS,MM,MZLs,PTCL</td><td>  11270</td><td>      0</td><td>14694856</td><td> 3792024</td><td>0</td></tr>\n",
       "\t<tr><th scope=row>5</th><td>FL                                                 </td><td>  57813</td><td>2075971</td><td>  172506</td><td>16191860</td><td>0</td></tr>\n",
       "\t<tr><th scope=row>6</th><td>ALL,AML,BL,CLL,CML,DLBCL,HL,MCL,MDS,MM,MZLs,PTCL   </td><td>  15914</td><td>  49485</td><td>  214405</td><td>18218346</td><td>0</td></tr>\n",
       "</tbody>\n",
       "</table>\n"
      ],
      "text/latex": [
       "A data.frame: 6 × 6\n",
       "\\begin{tabular}{r|llllll}\n",
       "  & diseases & clusterIn & notClusterIn & clusterOut & notClusterOut & pval\\\\\n",
       "  & <chr> & <dbl> & <dbl> & <dbl> & <dbl> & <dbl>\\\\\n",
       "\\hline\n",
       "\t1 & ALL,AML,BL,CLL,CML,DLBCL,FL,HL,MCL,MDS,MM,MZLs,PTCL & 7495092 &       0 &  7211034 &  3792024 & 0\\\\\n",
       "\t2 & ALL,AML,BL,CLL,CML,DLBCL,FL,HL,MCL,MDS,MM,MZLs,PTCL & 2433816 &       0 & 12272310 &  3792024 & 0\\\\\n",
       "\t3 & ALL,AML,BL,CLL,CML,DLBCL,HL,MCL,MDS,MM,MZLs,PTCL    &   17260 &  101808 &   213059 & 18166023 & 0\\\\\n",
       "\t4 & ALL,AML,BL,CLL,CML,DLBCL,FL,HL,MCL,MDS,MM,MZLs,PTCL &   11270 &       0 & 14694856 &  3792024 & 0\\\\\n",
       "\t5 & FL                                                  &   57813 & 2075971 &   172506 & 16191860 & 0\\\\\n",
       "\t6 & ALL,AML,BL,CLL,CML,DLBCL,HL,MCL,MDS,MM,MZLs,PTCL    &   15914 &   49485 &   214405 & 18218346 & 0\\\\\n",
       "\\end{tabular}\n"
      ],
      "text/markdown": [
       "\n",
       "A data.frame: 6 × 6\n",
       "\n",
       "| <!--/--> | diseases &lt;chr&gt; | clusterIn &lt;dbl&gt; | notClusterIn &lt;dbl&gt; | clusterOut &lt;dbl&gt; | notClusterOut &lt;dbl&gt; | pval &lt;dbl&gt; |\n",
       "|---|---|---|---|---|---|---|\n",
       "| 1 | ALL,AML,BL,CLL,CML,DLBCL,FL,HL,MCL,MDS,MM,MZLs,PTCL | 7495092 |       0 |  7211034 |  3792024 | 0 |\n",
       "| 2 | ALL,AML,BL,CLL,CML,DLBCL,FL,HL,MCL,MDS,MM,MZLs,PTCL | 2433816 |       0 | 12272310 |  3792024 | 0 |\n",
       "| 3 | ALL,AML,BL,CLL,CML,DLBCL,HL,MCL,MDS,MM,MZLs,PTCL    |   17260 |  101808 |   213059 | 18166023 | 0 |\n",
       "| 4 | ALL,AML,BL,CLL,CML,DLBCL,FL,HL,MCL,MDS,MM,MZLs,PTCL |   11270 |       0 | 14694856 |  3792024 | 0 |\n",
       "| 5 | FL                                                  |   57813 | 2075971 |   172506 | 16191860 | 0 |\n",
       "| 6 | ALL,AML,BL,CLL,CML,DLBCL,HL,MCL,MDS,MM,MZLs,PTCL    |   15914 |   49485 |   214405 | 18218346 | 0 |\n",
       "\n"
      ],
      "text/plain": [
       "  diseases                                            clusterIn notClusterIn\n",
       "1 ALL,AML,BL,CLL,CML,DLBCL,FL,HL,MCL,MDS,MM,MZLs,PTCL 7495092         0     \n",
       "2 ALL,AML,BL,CLL,CML,DLBCL,FL,HL,MCL,MDS,MM,MZLs,PTCL 2433816         0     \n",
       "3 ALL,AML,BL,CLL,CML,DLBCL,HL,MCL,MDS,MM,MZLs,PTCL      17260    101808     \n",
       "4 ALL,AML,BL,CLL,CML,DLBCL,FL,HL,MCL,MDS,MM,MZLs,PTCL   11270         0     \n",
       "5 FL                                                    57813   2075971     \n",
       "6 ALL,AML,BL,CLL,CML,DLBCL,HL,MCL,MDS,MM,MZLs,PTCL      15914     49485     \n",
       "  clusterOut notClusterOut pval\n",
       "1  7211034    3792024      0   \n",
       "2 12272310    3792024      0   \n",
       "3   213059   18166023      0   \n",
       "4 14694856    3792024      0   \n",
       "5   172506   16191860      0   \n",
       "6   214405   18218346      0   "
      ]
     },
     "metadata": {},
     "output_type": "display_data"
    }
   ],
   "source": [
    "fisher_test <- fisher_wrt_splits$perform_fisher(splits, triclusters_df)\n",
    "\n",
    "head(fisher_test)"
   ]
  },
  {
   "cell_type": "code",
   "execution_count": 127,
   "metadata": {
    "vscode": {
     "languageId": "r"
    }
   },
   "outputs": [],
   "source": [
    "results_path <- \"/home/PERSONALE/federico.magnani9/gepoh/main_results/\"\n",
    "write.csv(fisher_test, paste(results_path, \"fisher_wrt_splits.csv\", sep=''))"
   ]
  },
  {
   "cell_type": "code",
   "execution_count": 11,
   "metadata": {
    "vscode": {
     "languageId": "r"
    }
   },
   "outputs": [
    {
     "data": {
      "text/plain": [
       "\n",
       "FALSE  TRUE \n",
       "21049  2575 "
      ]
     },
     "metadata": {},
     "output_type": "display_data"
    },
    {
     "data": {
      "text/plain": [
       "left\n",
       "FALSE  TRUE \n",
       "15247  8377 "
      ]
     },
     "metadata": {},
     "output_type": "display_data"
    },
    {
     "data": {
      "text/plain": [
       "\n",
       "FALSE  TRUE \n",
       "21976  1648 "
      ]
     },
     "metadata": {},
     "output_type": "display_data"
    }
   ],
   "source": [
    "bonferroni <- TRUE\n",
    "adjust <- 1\n",
    "if(bonferroni){adjust <- nrow(fisher_test)}\n",
    "left <- fisher_test$pval<0.01/adjust\n",
    "\n",
    "garbage <- (fisher_test$clusterIn < ((fisher_test$clusterIn+fisher_test$clusterOut)/(fisher_test$clusterIn+fisher_test$notClusterIn)))\n",
    "\n",
    "table(!garbage)\n",
    "table(left)\n",
    "table(left&!garbage)\n",
    "\n",
    "# Filter the original dataframe since it's aligned with the dataframe of fisher's test\n",
    "significative_triclusters <- triclusters_df[left&!garbage,]\n"
   ]
  },
  {
   "cell_type": "code",
   "execution_count": 98,
   "metadata": {
    "vscode": {
     "languageId": "r"
    }
   },
   "outputs": [
    {
     "data": {
      "text/html": [
       "<table class=\"dataframe\">\n",
       "<caption>A data.frame: 6 × 4</caption>\n",
       "<thead>\n",
       "\t<tr><th></th><th scope=col>diseases</th><th scope=col>N_diseases</th><th scope=col>vol</th><th scope=col>clusterIn</th></tr>\n",
       "\t<tr><th></th><th scope=col>&lt;chr&gt;</th><th scope=col>&lt;int&gt;</th><th scope=col>&lt;int&gt;</th><th scope=col>&lt;dbl&gt;</th></tr>\n",
       "</thead>\n",
       "<tbody>\n",
       "\t<tr><th scope=row>1</th><td>ALL                                                </td><td> 1</td><td>  650984</td><td>  199425</td></tr>\n",
       "\t<tr><th scope=row>2</th><td>ALL,AML,BL,CLL,CML,DLBCL,FL,HL,MCL,MDS,MM,MZLs     </td><td>12</td><td>    3461</td><td>    2052</td></tr>\n",
       "\t<tr><th scope=row>3</th><td>ALL,AML,BL,CLL,CML,DLBCL,FL,HL,MCL,MDS,MM,MZLs,PTCL</td><td>13</td><td>12914727</td><td>12914727</td></tr>\n",
       "\t<tr><th scope=row>4</th><td>ALL,AML,BL,CLL,CML,DLBCL,FL,HL,MCL,MDS,MZLs,PTCL   </td><td>12</td><td>   38318</td><td>   32671</td></tr>\n",
       "\t<tr><th scope=row>5</th><td>ALL,AML,BL,CLL,CML,DLBCL,FL,HL,MDS,MM,MZLs,PTCL    </td><td>12</td><td>   16371</td><td>     426</td></tr>\n",
       "\t<tr><th scope=row>6</th><td>ALL,AML,BL,CLL,CML,DLBCL,FL,MCL,MDS,MM,MZLs,PTCL   </td><td>12</td><td>   13040</td><td>    1162</td></tr>\n",
       "</tbody>\n",
       "</table>\n"
      ],
      "text/latex": [
       "A data.frame: 6 × 4\n",
       "\\begin{tabular}{r|llll}\n",
       "  & diseases & N\\_diseases & vol & clusterIn\\\\\n",
       "  & <chr> & <int> & <int> & <dbl>\\\\\n",
       "\\hline\n",
       "\t1 & ALL                                                 &  1 &   650984 &   199425\\\\\n",
       "\t2 & ALL,AML,BL,CLL,CML,DLBCL,FL,HL,MCL,MDS,MM,MZLs      & 12 &     3461 &     2052\\\\\n",
       "\t3 & ALL,AML,BL,CLL,CML,DLBCL,FL,HL,MCL,MDS,MM,MZLs,PTCL & 13 & 12914727 & 12914727\\\\\n",
       "\t4 & ALL,AML,BL,CLL,CML,DLBCL,FL,HL,MCL,MDS,MZLs,PTCL    & 12 &    38318 &    32671\\\\\n",
       "\t5 & ALL,AML,BL,CLL,CML,DLBCL,FL,HL,MDS,MM,MZLs,PTCL     & 12 &    16371 &      426\\\\\n",
       "\t6 & ALL,AML,BL,CLL,CML,DLBCL,FL,MCL,MDS,MM,MZLs,PTCL    & 12 &    13040 &     1162\\\\\n",
       "\\end{tabular}\n"
      ],
      "text/markdown": [
       "\n",
       "A data.frame: 6 × 4\n",
       "\n",
       "| <!--/--> | diseases &lt;chr&gt; | N_diseases &lt;int&gt; | vol &lt;int&gt; | clusterIn &lt;dbl&gt; |\n",
       "|---|---|---|---|---|\n",
       "| 1 | ALL                                                 |  1 |   650984 |   199425 |\n",
       "| 2 | ALL,AML,BL,CLL,CML,DLBCL,FL,HL,MCL,MDS,MM,MZLs      | 12 |     3461 |     2052 |\n",
       "| 3 | ALL,AML,BL,CLL,CML,DLBCL,FL,HL,MCL,MDS,MM,MZLs,PTCL | 13 | 12914727 | 12914727 |\n",
       "| 4 | ALL,AML,BL,CLL,CML,DLBCL,FL,HL,MCL,MDS,MZLs,PTCL    | 12 |    38318 |    32671 |\n",
       "| 5 | ALL,AML,BL,CLL,CML,DLBCL,FL,HL,MDS,MM,MZLs,PTCL     | 12 |    16371 |      426 |\n",
       "| 6 | ALL,AML,BL,CLL,CML,DLBCL,FL,MCL,MDS,MM,MZLs,PTCL    | 12 |    13040 |     1162 |\n",
       "\n"
      ],
      "text/plain": [
       "  diseases                                            N_diseases vol     \n",
       "1 ALL                                                  1           650984\n",
       "2 ALL,AML,BL,CLL,CML,DLBCL,FL,HL,MCL,MDS,MM,MZLs      12             3461\n",
       "3 ALL,AML,BL,CLL,CML,DLBCL,FL,HL,MCL,MDS,MM,MZLs,PTCL 13         12914727\n",
       "4 ALL,AML,BL,CLL,CML,DLBCL,FL,HL,MCL,MDS,MZLs,PTCL    12            38318\n",
       "5 ALL,AML,BL,CLL,CML,DLBCL,FL,HL,MDS,MM,MZLs,PTCL     12            16371\n",
       "6 ALL,AML,BL,CLL,CML,DLBCL,FL,MCL,MDS,MM,MZLs,PTCL    12            13040\n",
       "  clusterIn\n",
       "1   199425 \n",
       "2     2052 \n",
       "3 12914727 \n",
       "4    32671 \n",
       "5      426 \n",
       "6     1162 "
      ]
     },
     "metadata": {},
     "output_type": "display_data"
    }
   ],
   "source": [
    "significative_triclusters <- triclusters_df[left&!garbage,]\n",
    "significative_fisher_test <- fisher_test[left&!garbage,]\n",
    "\n",
    "aggregate_df <- fisher_wrt_splits$aggregate_triclusters(significative_triclusters, significative_fisher_test)\n",
    "head(aggregate_df)"
   ]
  },
  {
   "cell_type": "code",
   "execution_count": 99,
   "metadata": {
    "vscode": {
     "languageId": "r"
    }
   },
   "outputs": [
    {
     "name": "stderr",
     "output_type": "stream",
     "text": [
      "1/70\n",
      "\n"
     ]
    },
    {
     "name": "stderr",
     "output_type": "stream",
     "text": [
      "2/70\n",
      "\n",
      "3/70\n",
      "\n",
      "4/70\n",
      "\n",
      "5/70\n",
      "\n",
      "6/70\n",
      "\n",
      "7/70\n",
      "\n",
      "8/70\n",
      "\n",
      "9/70\n",
      "\n",
      "10/70\n",
      "\n",
      "11/70\n",
      "\n",
      "12/70\n",
      "\n",
      "13/70\n",
      "\n",
      "14/70\n",
      "\n",
      "15/70\n",
      "\n",
      "16/70\n",
      "\n",
      "17/70\n",
      "\n",
      "18/70\n",
      "\n",
      "19/70\n",
      "\n",
      "20/70\n",
      "\n",
      "21/70\n",
      "\n",
      "22/70\n",
      "\n",
      "23/70\n",
      "\n",
      "24/70\n",
      "\n",
      "25/70\n",
      "\n",
      "26/70\n",
      "\n",
      "27/70\n",
      "\n",
      "28/70\n",
      "\n",
      "29/70\n",
      "\n",
      "30/70\n",
      "\n",
      "31/70\n",
      "\n",
      "32/70\n",
      "\n",
      "33/70\n",
      "\n",
      "34/70\n",
      "\n",
      "35/70\n",
      "\n",
      "36/70\n",
      "\n",
      "37/70\n",
      "\n",
      "38/70\n",
      "\n",
      "39/70\n",
      "\n",
      "40/70\n",
      "\n",
      "41/70\n",
      "\n",
      "42/70\n",
      "\n",
      "43/70\n",
      "\n",
      "44/70\n",
      "\n",
      "45/70\n",
      "\n",
      "46/70\n",
      "\n",
      "47/70\n",
      "\n",
      "48/70\n",
      "\n",
      "49/70\n",
      "\n",
      "50/70\n",
      "\n",
      "51/70\n",
      "\n",
      "52/70\n",
      "\n",
      "53/70\n",
      "\n",
      "54/70\n",
      "\n",
      "55/70\n",
      "\n",
      "56/70\n",
      "\n",
      "57/70\n",
      "\n",
      "58/70\n",
      "\n",
      "59/70\n",
      "\n",
      "60/70\n",
      "\n",
      "61/70\n",
      "\n",
      "62/70\n",
      "\n",
      "63/70\n",
      "\n",
      "64/70\n",
      "\n",
      "65/70\n",
      "\n",
      "66/70\n",
      "\n",
      "67/70\n",
      "\n",
      "68/70\n",
      "\n",
      "69/70\n",
      "\n",
      "70/70\n",
      "\n"
     ]
    },
    {
     "data": {
      "text/html": [
       "<table class=\"dataframe\">\n",
       "<caption>A data.frame: 6 × 9</caption>\n",
       "<thead>\n",
       "\t<tr><th></th><th scope=col>diseases</th><th scope=col>N_diseases</th><th scope=col>vol</th><th scope=col>clusterIn</th><th scope=col>oneEdges</th><th scope=col>oneEdges_clusterIn</th><th scope=col>n_connected_nodes</th><th scope=col>n_connected_genes</th><th scope=col>n_connected_tfs</th></tr>\n",
       "\t<tr><th></th><th scope=col>&lt;chr&gt;</th><th scope=col>&lt;int&gt;</th><th scope=col>&lt;int&gt;</th><th scope=col>&lt;dbl&gt;</th><th scope=col>&lt;named list&gt;</th><th scope=col>&lt;named list&gt;</th><th scope=col>&lt;named list&gt;</th><th scope=col>&lt;named list&gt;</th><th scope=col>&lt;named list&gt;</th></tr>\n",
       "</thead>\n",
       "<tbody>\n",
       "\t<tr><th scope=row>1</th><td>ALL                                                </td><td> 1</td><td>  650984</td><td>  199425</td><td>331406</td><td>198092</td><td>16216</td><td>701</td><td>15515</td></tr>\n",
       "\t<tr><th scope=row>2</th><td>ALL,AML,BL,CLL,CML,DLBCL,FL,HL,MCL,MDS,MM,MZLs     </td><td>12</td><td>    3461</td><td>    2052</td><td>500</td><td>38</td><td>36</td><td>2</td><td>34</td></tr>\n",
       "\t<tr><th scope=row>3</th><td>ALL,AML,BL,CLL,CML,DLBCL,FL,HL,MCL,MDS,MM,MZLs,PTCL</td><td>13</td><td>12914727</td><td>12914727</td><td>1173944</td><td>1173944</td><td>16450</td><td>891</td><td>15559</td></tr>\n",
       "\t<tr><th scope=row>4</th><td>ALL,AML,BL,CLL,CML,DLBCL,FL,HL,MCL,MDS,MZLs,PTCL   </td><td>12</td><td>   38318</td><td>   32671</td><td>1456</td><td>8</td><td>10</td><td>2</td><td>8</td></tr>\n",
       "\t<tr><th scope=row>5</th><td>ALL,AML,BL,CLL,CML,DLBCL,FL,HL,MDS,MM,MZLs,PTCL    </td><td>12</td><td>   16371</td><td>     426</td><td>1330</td><td>0</td><td>0</td><td>0</td><td>0</td></tr>\n",
       "\t<tr><th scope=row>6</th><td>ALL,AML,BL,CLL,CML,DLBCL,FL,MCL,MDS,MM,MZLs,PTCL   </td><td>12</td><td>   13040</td><td>    1162</td><td>1823</td><td>34</td><td>37</td><td>3</td><td>34</td></tr>\n",
       "</tbody>\n",
       "</table>\n"
      ],
      "text/latex": [
       "A data.frame: 6 × 9\n",
       "\\begin{tabular}{r|lllllllll}\n",
       "  & diseases & N\\_diseases & vol & clusterIn & oneEdges & oneEdges\\_clusterIn & n\\_connected\\_nodes & n\\_connected\\_genes & n\\_connected\\_tfs\\\\\n",
       "  & <chr> & <int> & <int> & <dbl> & <named list> & <named list> & <named list> & <named list> & <named list>\\\\\n",
       "\\hline\n",
       "\t1 & ALL                                                 &  1 &   650984 &   199425 & 331406 & 198092 & 16216 & 701 & 15515\\\\\n",
       "\t2 & ALL,AML,BL,CLL,CML,DLBCL,FL,HL,MCL,MDS,MM,MZLs      & 12 &     3461 &     2052 & 500 & 38 & 36 & 2 & 34\\\\\n",
       "\t3 & ALL,AML,BL,CLL,CML,DLBCL,FL,HL,MCL,MDS,MM,MZLs,PTCL & 13 & 12914727 & 12914727 & 1173944 & 1173944 & 16450 & 891 & 15559\\\\\n",
       "\t4 & ALL,AML,BL,CLL,CML,DLBCL,FL,HL,MCL,MDS,MZLs,PTCL    & 12 &    38318 &    32671 & 1456 & 8 & 10 & 2 & 8\\\\\n",
       "\t5 & ALL,AML,BL,CLL,CML,DLBCL,FL,HL,MDS,MM,MZLs,PTCL     & 12 &    16371 &      426 & 1330 & 0 & 0 & 0 & 0\\\\\n",
       "\t6 & ALL,AML,BL,CLL,CML,DLBCL,FL,MCL,MDS,MM,MZLs,PTCL    & 12 &    13040 &     1162 & 1823 & 34 & 37 & 3 & 34\\\\\n",
       "\\end{tabular}\n"
      ],
      "text/markdown": [
       "\n",
       "A data.frame: 6 × 9\n",
       "\n",
       "| <!--/--> | diseases &lt;chr&gt; | N_diseases &lt;int&gt; | vol &lt;int&gt; | clusterIn &lt;dbl&gt; | oneEdges &lt;named list&gt; | oneEdges_clusterIn &lt;named list&gt; | n_connected_nodes &lt;named list&gt; | n_connected_genes &lt;named list&gt; | n_connected_tfs &lt;named list&gt; |\n",
       "|---|---|---|---|---|---|---|---|---|---|\n",
       "| 1 | ALL                                                 |  1 |   650984 |   199425 | 331406 | 198092 | 16216 | 701 | 15515 |\n",
       "| 2 | ALL,AML,BL,CLL,CML,DLBCL,FL,HL,MCL,MDS,MM,MZLs      | 12 |     3461 |     2052 | 500 | 38 | 36 | 2 | 34 |\n",
       "| 3 | ALL,AML,BL,CLL,CML,DLBCL,FL,HL,MCL,MDS,MM,MZLs,PTCL | 13 | 12914727 | 12914727 | 1173944 | 1173944 | 16450 | 891 | 15559 |\n",
       "| 4 | ALL,AML,BL,CLL,CML,DLBCL,FL,HL,MCL,MDS,MZLs,PTCL    | 12 |    38318 |    32671 | 1456 | 8 | 10 | 2 | 8 |\n",
       "| 5 | ALL,AML,BL,CLL,CML,DLBCL,FL,HL,MDS,MM,MZLs,PTCL     | 12 |    16371 |      426 | 1330 | 0 | 0 | 0 | 0 |\n",
       "| 6 | ALL,AML,BL,CLL,CML,DLBCL,FL,MCL,MDS,MM,MZLs,PTCL    | 12 |    13040 |     1162 | 1823 | 34 | 37 | 3 | 34 |\n",
       "\n"
      ],
      "text/plain": [
       "  diseases                                            N_diseases vol     \n",
       "1 ALL                                                  1           650984\n",
       "2 ALL,AML,BL,CLL,CML,DLBCL,FL,HL,MCL,MDS,MM,MZLs      12             3461\n",
       "3 ALL,AML,BL,CLL,CML,DLBCL,FL,HL,MCL,MDS,MM,MZLs,PTCL 13         12914727\n",
       "4 ALL,AML,BL,CLL,CML,DLBCL,FL,HL,MCL,MDS,MZLs,PTCL    12            38318\n",
       "5 ALL,AML,BL,CLL,CML,DLBCL,FL,HL,MDS,MM,MZLs,PTCL     12            16371\n",
       "6 ALL,AML,BL,CLL,CML,DLBCL,FL,MCL,MDS,MM,MZLs,PTCL    12            13040\n",
       "  clusterIn oneEdges oneEdges_clusterIn n_connected_nodes n_connected_genes\n",
       "1   199425  331406   198092             16216             701              \n",
       "2     2052  500      38                 36                2                \n",
       "3 12914727  1173944  1173944            16450             891              \n",
       "4    32671  1456     8                  10                2                \n",
       "5      426  1330     0                  0                 0                \n",
       "6     1162  1823     34                 37                3                \n",
       "  n_connected_tfs\n",
       "1 15515          \n",
       "2 34             \n",
       "3 15559          \n",
       "4 8              \n",
       "5 0              \n",
       "6 34             "
      ]
     },
     "metadata": {},
     "output_type": "display_data"
    }
   ],
   "source": [
    "network_stats <- fisher_wrt_splits$network_stats(aggregate_df, significative_triclusters, binary_networks, splits)\n",
    "head(network_stats)\n"
   ]
  },
  {
   "cell_type": "code",
   "execution_count": 111,
   "metadata": {
    "vscode": {
     "languageId": "r"
    }
   },
   "outputs": [
    {
     "data": {
      "text/html": [
       "<table class=\"dataframe\">\n",
       "<caption>A data.frame: 70 × 6</caption>\n",
       "<thead>\n",
       "\t<tr><th></th><th scope=col>diseases</th><th scope=col>N_diseases</th><th scope=col>vol</th><th scope=col>n_connected_nodes</th><th scope=col>n_connected_genes</th><th scope=col>n_connected_tfs</th></tr>\n",
       "\t<tr><th></th><th scope=col>&lt;chr&gt;</th><th scope=col>&lt;int&gt;</th><th scope=col>&lt;int&gt;</th><th scope=col>&lt;dbl&gt;</th><th scope=col>&lt;dbl&gt;</th><th scope=col>&lt;dbl&gt;</th></tr>\n",
       "</thead>\n",
       "<tbody>\n",
       "\t<tr><th scope=row>5</th><td>ALL,AML,BL,CLL,CML,DLBCL,FL,HL,MDS,MM,MZLs,PTCL </td><td>12</td><td> 16371</td><td> 0</td><td> 0</td><td> 0</td></tr>\n",
       "\t<tr><th scope=row>11</th><td>ALL,AML,BL,CML,DLBCL,FL,HL,MCL,MDS,MM,MZLs,PTCL </td><td>12</td><td> 40266</td><td> 0</td><td> 0</td><td> 0</td></tr>\n",
       "\t<tr><th scope=row>12</th><td>ALL,AML,CLL,CML,DLBCL,FL,HL,MCL,MDS,MM,MZLs,PTCL</td><td>12</td><td>  1278</td><td> 0</td><td> 0</td><td> 0</td></tr>\n",
       "\t<tr><th scope=row>13</th><td>ALL,AML,CLL,CML,FL,HL,MCL,MDS,MM,MZLs,PTCL      </td><td>11</td><td> 17434</td><td> 0</td><td> 0</td><td> 0</td></tr>\n",
       "\t<tr><th scope=row>16</th><td>ALL,BL,CLL,CML,FL,HL,MCL,MDS,MM,MZLs,PTCL       </td><td>11</td><td>  2325</td><td> 0</td><td> 0</td><td> 0</td></tr>\n",
       "\t<tr><th scope=row>22</th><td>AML,BL,CLL,CML,DLBCL,FL,HL,MCL,MDS,MM,MZLs      </td><td>11</td><td>  7488</td><td> 0</td><td> 0</td><td> 0</td></tr>\n",
       "\t<tr><th scope=row>24</th><td>AML,CLL,CML,DLBCL,FL,HL,MCL,MDS,MM,MZLs,PTCL    </td><td>11</td><td>  2163</td><td> 0</td><td> 0</td><td> 0</td></tr>\n",
       "\t<tr><th scope=row>49</th><td>DLBCL,FL,PTCL                                   </td><td> 3</td><td>  2317</td><td> 0</td><td> 0</td><td> 0</td></tr>\n",
       "\t<tr><th scope=row>60</th><td>HL,MM                                           </td><td> 2</td><td>414018</td><td> 2</td><td> 1</td><td> 1</td></tr>\n",
       "\t<tr><th scope=row>9</th><td>ALL,AML,BL,CLL,CML,FL,HL,MCL,MDS,MM,MZLs,PTCL   </td><td>12</td><td>  7780</td><td> 5</td><td> 1</td><td> 4</td></tr>\n",
       "\t<tr><th scope=row>36</th><td>CLL,DLBCL                                       </td><td> 2</td><td>  1086</td><td> 5</td><td> 3</td><td> 2</td></tr>\n",
       "\t<tr><th scope=row>15</th><td>ALL,BL,CLL,CML,DLBCL,FL,HL,MCL,MDS,MM,MZLs,PTCL </td><td>12</td><td>  5421</td><td> 7</td><td> 1</td><td> 6</td></tr>\n",
       "\t<tr><th scope=row>35</th><td>CLL,CML                                         </td><td> 2</td><td>   465</td><td> 7</td><td> 5</td><td> 2</td></tr>\n",
       "\t<tr><th scope=row>45</th><td>CML,MDS                                         </td><td> 2</td><td>  1582</td><td> 7</td><td> 2</td><td> 5</td></tr>\n",
       "\t<tr><th scope=row>61</th><td>HL,MZLs                                         </td><td> 2</td><td>   795</td><td> 7</td><td> 5</td><td> 2</td></tr>\n",
       "\t<tr><th scope=row>32</th><td>BL,MDS                                          </td><td> 2</td><td>  1206</td><td> 8</td><td> 6</td><td> 2</td></tr>\n",
       "\t<tr><th scope=row>55</th><td>FL,MCL                                          </td><td> 2</td><td>  7384</td><td> 8</td><td> 4</td><td> 4</td></tr>\n",
       "\t<tr><th scope=row>17</th><td>ALL,CLL                                         </td><td> 2</td><td>  2655</td><td> 9</td><td> 5</td><td> 4</td></tr>\n",
       "\t<tr><th scope=row>33</th><td>BL,PTCL                                         </td><td> 2</td><td>  1778</td><td> 9</td><td> 7</td><td> 2</td></tr>\n",
       "\t<tr><th scope=row>50</th><td>DLBCL,HL                                        </td><td> 2</td><td>  1115</td><td> 9</td><td> 5</td><td> 4</td></tr>\n",
       "\t<tr><th scope=row>4</th><td>ALL,AML,BL,CLL,CML,DLBCL,FL,HL,MCL,MDS,MZLs,PTCL</td><td>12</td><td> 38318</td><td>10</td><td> 2</td><td> 8</td></tr>\n",
       "\t<tr><th scope=row>47</th><td>CML,MZLs                                        </td><td> 2</td><td>  1928</td><td>10</td><td> 7</td><td> 3</td></tr>\n",
       "\t<tr><th scope=row>10</th><td>ALL,AML,BL,CLL,CML,HL,MCL,MDS,MM,MZLs,PTCL      </td><td>11</td><td>  2206</td><td>12</td><td> 1</td><td>11</td></tr>\n",
       "\t<tr><th scope=row>14</th><td>ALL,BL                                          </td><td> 2</td><td>  9684</td><td>12</td><td> 9</td><td> 3</td></tr>\n",
       "\t<tr><th scope=row>19</th><td>ALL,HL                                          </td><td> 2</td><td>  3795</td><td>12</td><td>11</td><td> 1</td></tr>\n",
       "\t<tr><th scope=row>26</th><td>AML,MDS                                         </td><td> 2</td><td>  1152</td><td>12</td><td> 9</td><td> 3</td></tr>\n",
       "\t<tr><th scope=row>27</th><td>AML,MM                                          </td><td> 2</td><td>  6132</td><td>12</td><td> 9</td><td> 3</td></tr>\n",
       "\t<tr><th scope=row>37</th><td>CLL,FL                                          </td><td> 2</td><td>  1790</td><td>12</td><td>10</td><td> 2</td></tr>\n",
       "\t<tr><th scope=row>40</th><td>CLL,MM                                          </td><td> 2</td><td>  3132</td><td>12</td><td> 9</td><td> 3</td></tr>\n",
       "\t<tr><th scope=row>44</th><td>CML,MCL                                         </td><td> 2</td><td>   858</td><td>12</td><td>11</td><td> 1</td></tr>\n",
       "\t<tr><th scope=row>⋮</th><td>⋮</td><td>⋮</td><td>⋮</td><td>⋮</td><td>⋮</td><td>⋮</td></tr>\n",
       "\t<tr><th scope=row>56</th><td>FL,MDS                                             </td><td> 2</td><td>    6901</td><td>   23</td><td> 20</td><td>    3</td></tr>\n",
       "\t<tr><th scope=row>63</th><td>MCL,MZLs                                           </td><td> 2</td><td>   11460</td><td>   24</td><td> 21</td><td>    3</td></tr>\n",
       "\t<tr><th scope=row>52</th><td>DLBCL,PTCL                                         </td><td> 2</td><td>    3374</td><td>   25</td><td> 21</td><td>    4</td></tr>\n",
       "\t<tr><th scope=row>65</th><td>MDS,MZLs                                           </td><td> 2</td><td>    3364</td><td>   30</td><td> 27</td><td>    3</td></tr>\n",
       "\t<tr><th scope=row>2</th><td>ALL,AML,BL,CLL,CML,DLBCL,FL,HL,MCL,MDS,MM,MZLs     </td><td>12</td><td>    3461</td><td>   36</td><td>  2</td><td>   34</td></tr>\n",
       "\t<tr><th scope=row>6</th><td>ALL,AML,BL,CLL,CML,DLBCL,FL,MCL,MDS,MM,MZLs,PTCL   </td><td>12</td><td>   13040</td><td>   37</td><td>  3</td><td>   34</td></tr>\n",
       "\t<tr><th scope=row>8</th><td>ALL,AML,BL,CLL,CML,DLBCL,MCL,MDS,MM,MZLs,PTCL      </td><td>11</td><td>   43342</td><td>   46</td><td> 20</td><td>   26</td></tr>\n",
       "\t<tr><th scope=row>18</th><td>ALL,CML                                            </td><td> 2</td><td>    6132</td><td>  166</td><td>  1</td><td>  165</td></tr>\n",
       "\t<tr><th scope=row>28</th><td>AML,PTCL                                           </td><td> 2</td><td>    5727</td><td>  211</td><td>  1</td><td>  210</td></tr>\n",
       "\t<tr><th scope=row>51</th><td>DLBCL,MCL                                          </td><td> 2</td><td>    5206</td><td>  267</td><td>266</td><td>    1</td></tr>\n",
       "\t<tr><th scope=row>20</th><td>ALL,MDS                                            </td><td> 2</td><td>   13018</td><td>  286</td><td>283</td><td>    3</td></tr>\n",
       "\t<tr><th scope=row>59</th><td>HL,MDS                                             </td><td> 2</td><td>    1425</td><td>  287</td><td>285</td><td>    2</td></tr>\n",
       "\t<tr><th scope=row>43</th><td>CML,HL                                             </td><td> 2</td><td>   35164</td><td>  296</td><td>292</td><td>    4</td></tr>\n",
       "\t<tr><th scope=row>38</th><td>CLL,HL                                             </td><td> 2</td><td>   37407</td><td>  308</td><td>303</td><td>    5</td></tr>\n",
       "\t<tr><th scope=row>30</th><td>BL,CLL                                             </td><td> 2</td><td>   84107</td><td>  312</td><td>  2</td><td>  310</td></tr>\n",
       "\t<tr><th scope=row>7</th><td>ALL,AML,BL,CLL,CML,DLBCL,HL,MCL,MDS,MM,MZLs,PTCL   </td><td>12</td><td>  370404</td><td> 1384</td><td> 89</td><td> 1295</td></tr>\n",
       "\t<tr><th scope=row>41</th><td>CML                                                </td><td> 1</td><td>  518678</td><td>14611</td><td>849</td><td>13762</td></tr>\n",
       "\t<tr><th scope=row>1</th><td>ALL                                                </td><td> 1</td><td>  650984</td><td>16216</td><td>701</td><td>15515</td></tr>\n",
       "\t<tr><th scope=row>70</th><td>PTCL                                               </td><td> 1</td><td> 1239423</td><td>16246</td><td>726</td><td>15520</td></tr>\n",
       "\t<tr><th scope=row>21</th><td>AML                                                </td><td> 1</td><td>  823494</td><td>16260</td><td>814</td><td>15446</td></tr>\n",
       "\t<tr><th scope=row>67</th><td>MM                                                 </td><td> 1</td><td> 1681138</td><td>16292</td><td>851</td><td>15441</td></tr>\n",
       "\t<tr><th scope=row>34</th><td>CLL                                                </td><td> 1</td><td>  963073</td><td>16307</td><td>778</td><td>15529</td></tr>\n",
       "\t<tr><th scope=row>62</th><td>MCL                                                </td><td> 1</td><td> 2124660</td><td>16359</td><td>838</td><td>15521</td></tr>\n",
       "\t<tr><th scope=row>69</th><td>MZLs                                               </td><td> 1</td><td> 1362565</td><td>16376</td><td>800</td><td>15576</td></tr>\n",
       "\t<tr><th scope=row>48</th><td>DLBCL                                              </td><td> 1</td><td> 2055012</td><td>16388</td><td>847</td><td>15541</td></tr>\n",
       "\t<tr><th scope=row>29</th><td>BL                                                 </td><td> 1</td><td>  943556</td><td>16397</td><td>781</td><td>15616</td></tr>\n",
       "\t<tr><th scope=row>58</th><td>HL                                                 </td><td> 1</td><td> 1200054</td><td>16424</td><td>839</td><td>15585</td></tr>\n",
       "\t<tr><th scope=row>64</th><td>MDS                                                </td><td> 1</td><td> 2093424</td><td>16445</td><td>751</td><td>15694</td></tr>\n",
       "\t<tr><th scope=row>3</th><td>ALL,AML,BL,CLL,CML,DLBCL,FL,HL,MCL,MDS,MM,MZLs,PTCL</td><td>13</td><td>12914727</td><td>16450</td><td>891</td><td>15559</td></tr>\n",
       "\t<tr><th scope=row>53</th><td>FL                                                 </td><td> 1</td><td> 2874820</td><td>16494</td><td>883</td><td>15611</td></tr>\n",
       "</tbody>\n",
       "</table>\n"
      ],
      "text/latex": [
       "A data.frame: 70 × 6\n",
       "\\begin{tabular}{r|llllll}\n",
       "  & diseases & N\\_diseases & vol & n\\_connected\\_nodes & n\\_connected\\_genes & n\\_connected\\_tfs\\\\\n",
       "  & <chr> & <int> & <int> & <dbl> & <dbl> & <dbl>\\\\\n",
       "\\hline\n",
       "\t5 & ALL,AML,BL,CLL,CML,DLBCL,FL,HL,MDS,MM,MZLs,PTCL  & 12 &  16371 &  0 &  0 &  0\\\\\n",
       "\t11 & ALL,AML,BL,CML,DLBCL,FL,HL,MCL,MDS,MM,MZLs,PTCL  & 12 &  40266 &  0 &  0 &  0\\\\\n",
       "\t12 & ALL,AML,CLL,CML,DLBCL,FL,HL,MCL,MDS,MM,MZLs,PTCL & 12 &   1278 &  0 &  0 &  0\\\\\n",
       "\t13 & ALL,AML,CLL,CML,FL,HL,MCL,MDS,MM,MZLs,PTCL       & 11 &  17434 &  0 &  0 &  0\\\\\n",
       "\t16 & ALL,BL,CLL,CML,FL,HL,MCL,MDS,MM,MZLs,PTCL        & 11 &   2325 &  0 &  0 &  0\\\\\n",
       "\t22 & AML,BL,CLL,CML,DLBCL,FL,HL,MCL,MDS,MM,MZLs       & 11 &   7488 &  0 &  0 &  0\\\\\n",
       "\t24 & AML,CLL,CML,DLBCL,FL,HL,MCL,MDS,MM,MZLs,PTCL     & 11 &   2163 &  0 &  0 &  0\\\\\n",
       "\t49 & DLBCL,FL,PTCL                                    &  3 &   2317 &  0 &  0 &  0\\\\\n",
       "\t60 & HL,MM                                            &  2 & 414018 &  2 &  1 &  1\\\\\n",
       "\t9 & ALL,AML,BL,CLL,CML,FL,HL,MCL,MDS,MM,MZLs,PTCL    & 12 &   7780 &  5 &  1 &  4\\\\\n",
       "\t36 & CLL,DLBCL                                        &  2 &   1086 &  5 &  3 &  2\\\\\n",
       "\t15 & ALL,BL,CLL,CML,DLBCL,FL,HL,MCL,MDS,MM,MZLs,PTCL  & 12 &   5421 &  7 &  1 &  6\\\\\n",
       "\t35 & CLL,CML                                          &  2 &    465 &  7 &  5 &  2\\\\\n",
       "\t45 & CML,MDS                                          &  2 &   1582 &  7 &  2 &  5\\\\\n",
       "\t61 & HL,MZLs                                          &  2 &    795 &  7 &  5 &  2\\\\\n",
       "\t32 & BL,MDS                                           &  2 &   1206 &  8 &  6 &  2\\\\\n",
       "\t55 & FL,MCL                                           &  2 &   7384 &  8 &  4 &  4\\\\\n",
       "\t17 & ALL,CLL                                          &  2 &   2655 &  9 &  5 &  4\\\\\n",
       "\t33 & BL,PTCL                                          &  2 &   1778 &  9 &  7 &  2\\\\\n",
       "\t50 & DLBCL,HL                                         &  2 &   1115 &  9 &  5 &  4\\\\\n",
       "\t4 & ALL,AML,BL,CLL,CML,DLBCL,FL,HL,MCL,MDS,MZLs,PTCL & 12 &  38318 & 10 &  2 &  8\\\\\n",
       "\t47 & CML,MZLs                                         &  2 &   1928 & 10 &  7 &  3\\\\\n",
       "\t10 & ALL,AML,BL,CLL,CML,HL,MCL,MDS,MM,MZLs,PTCL       & 11 &   2206 & 12 &  1 & 11\\\\\n",
       "\t14 & ALL,BL                                           &  2 &   9684 & 12 &  9 &  3\\\\\n",
       "\t19 & ALL,HL                                           &  2 &   3795 & 12 & 11 &  1\\\\\n",
       "\t26 & AML,MDS                                          &  2 &   1152 & 12 &  9 &  3\\\\\n",
       "\t27 & AML,MM                                           &  2 &   6132 & 12 &  9 &  3\\\\\n",
       "\t37 & CLL,FL                                           &  2 &   1790 & 12 & 10 &  2\\\\\n",
       "\t40 & CLL,MM                                           &  2 &   3132 & 12 &  9 &  3\\\\\n",
       "\t44 & CML,MCL                                          &  2 &    858 & 12 & 11 &  1\\\\\n",
       "\t⋮ & ⋮ & ⋮ & ⋮ & ⋮ & ⋮ & ⋮\\\\\n",
       "\t56 & FL,MDS                                              &  2 &     6901 &    23 &  20 &     3\\\\\n",
       "\t63 & MCL,MZLs                                            &  2 &    11460 &    24 &  21 &     3\\\\\n",
       "\t52 & DLBCL,PTCL                                          &  2 &     3374 &    25 &  21 &     4\\\\\n",
       "\t65 & MDS,MZLs                                            &  2 &     3364 &    30 &  27 &     3\\\\\n",
       "\t2 & ALL,AML,BL,CLL,CML,DLBCL,FL,HL,MCL,MDS,MM,MZLs      & 12 &     3461 &    36 &   2 &    34\\\\\n",
       "\t6 & ALL,AML,BL,CLL,CML,DLBCL,FL,MCL,MDS,MM,MZLs,PTCL    & 12 &    13040 &    37 &   3 &    34\\\\\n",
       "\t8 & ALL,AML,BL,CLL,CML,DLBCL,MCL,MDS,MM,MZLs,PTCL       & 11 &    43342 &    46 &  20 &    26\\\\\n",
       "\t18 & ALL,CML                                             &  2 &     6132 &   166 &   1 &   165\\\\\n",
       "\t28 & AML,PTCL                                            &  2 &     5727 &   211 &   1 &   210\\\\\n",
       "\t51 & DLBCL,MCL                                           &  2 &     5206 &   267 & 266 &     1\\\\\n",
       "\t20 & ALL,MDS                                             &  2 &    13018 &   286 & 283 &     3\\\\\n",
       "\t59 & HL,MDS                                              &  2 &     1425 &   287 & 285 &     2\\\\\n",
       "\t43 & CML,HL                                              &  2 &    35164 &   296 & 292 &     4\\\\\n",
       "\t38 & CLL,HL                                              &  2 &    37407 &   308 & 303 &     5\\\\\n",
       "\t30 & BL,CLL                                              &  2 &    84107 &   312 &   2 &   310\\\\\n",
       "\t7 & ALL,AML,BL,CLL,CML,DLBCL,HL,MCL,MDS,MM,MZLs,PTCL    & 12 &   370404 &  1384 &  89 &  1295\\\\\n",
       "\t41 & CML                                                 &  1 &   518678 & 14611 & 849 & 13762\\\\\n",
       "\t1 & ALL                                                 &  1 &   650984 & 16216 & 701 & 15515\\\\\n",
       "\t70 & PTCL                                                &  1 &  1239423 & 16246 & 726 & 15520\\\\\n",
       "\t21 & AML                                                 &  1 &   823494 & 16260 & 814 & 15446\\\\\n",
       "\t67 & MM                                                  &  1 &  1681138 & 16292 & 851 & 15441\\\\\n",
       "\t34 & CLL                                                 &  1 &   963073 & 16307 & 778 & 15529\\\\\n",
       "\t62 & MCL                                                 &  1 &  2124660 & 16359 & 838 & 15521\\\\\n",
       "\t69 & MZLs                                                &  1 &  1362565 & 16376 & 800 & 15576\\\\\n",
       "\t48 & DLBCL                                               &  1 &  2055012 & 16388 & 847 & 15541\\\\\n",
       "\t29 & BL                                                  &  1 &   943556 & 16397 & 781 & 15616\\\\\n",
       "\t58 & HL                                                  &  1 &  1200054 & 16424 & 839 & 15585\\\\\n",
       "\t64 & MDS                                                 &  1 &  2093424 & 16445 & 751 & 15694\\\\\n",
       "\t3 & ALL,AML,BL,CLL,CML,DLBCL,FL,HL,MCL,MDS,MM,MZLs,PTCL & 13 & 12914727 & 16450 & 891 & 15559\\\\\n",
       "\t53 & FL                                                  &  1 &  2874820 & 16494 & 883 & 15611\\\\\n",
       "\\end{tabular}\n"
      ],
      "text/markdown": [
       "\n",
       "A data.frame: 70 × 6\n",
       "\n",
       "| <!--/--> | diseases &lt;chr&gt; | N_diseases &lt;int&gt; | vol &lt;int&gt; | n_connected_nodes &lt;dbl&gt; | n_connected_genes &lt;dbl&gt; | n_connected_tfs &lt;dbl&gt; |\n",
       "|---|---|---|---|---|---|---|\n",
       "| 5 | ALL,AML,BL,CLL,CML,DLBCL,FL,HL,MDS,MM,MZLs,PTCL  | 12 |  16371 |  0 |  0 |  0 |\n",
       "| 11 | ALL,AML,BL,CML,DLBCL,FL,HL,MCL,MDS,MM,MZLs,PTCL  | 12 |  40266 |  0 |  0 |  0 |\n",
       "| 12 | ALL,AML,CLL,CML,DLBCL,FL,HL,MCL,MDS,MM,MZLs,PTCL | 12 |   1278 |  0 |  0 |  0 |\n",
       "| 13 | ALL,AML,CLL,CML,FL,HL,MCL,MDS,MM,MZLs,PTCL       | 11 |  17434 |  0 |  0 |  0 |\n",
       "| 16 | ALL,BL,CLL,CML,FL,HL,MCL,MDS,MM,MZLs,PTCL        | 11 |   2325 |  0 |  0 |  0 |\n",
       "| 22 | AML,BL,CLL,CML,DLBCL,FL,HL,MCL,MDS,MM,MZLs       | 11 |   7488 |  0 |  0 |  0 |\n",
       "| 24 | AML,CLL,CML,DLBCL,FL,HL,MCL,MDS,MM,MZLs,PTCL     | 11 |   2163 |  0 |  0 |  0 |\n",
       "| 49 | DLBCL,FL,PTCL                                    |  3 |   2317 |  0 |  0 |  0 |\n",
       "| 60 | HL,MM                                            |  2 | 414018 |  2 |  1 |  1 |\n",
       "| 9 | ALL,AML,BL,CLL,CML,FL,HL,MCL,MDS,MM,MZLs,PTCL    | 12 |   7780 |  5 |  1 |  4 |\n",
       "| 36 | CLL,DLBCL                                        |  2 |   1086 |  5 |  3 |  2 |\n",
       "| 15 | ALL,BL,CLL,CML,DLBCL,FL,HL,MCL,MDS,MM,MZLs,PTCL  | 12 |   5421 |  7 |  1 |  6 |\n",
       "| 35 | CLL,CML                                          |  2 |    465 |  7 |  5 |  2 |\n",
       "| 45 | CML,MDS                                          |  2 |   1582 |  7 |  2 |  5 |\n",
       "| 61 | HL,MZLs                                          |  2 |    795 |  7 |  5 |  2 |\n",
       "| 32 | BL,MDS                                           |  2 |   1206 |  8 |  6 |  2 |\n",
       "| 55 | FL,MCL                                           |  2 |   7384 |  8 |  4 |  4 |\n",
       "| 17 | ALL,CLL                                          |  2 |   2655 |  9 |  5 |  4 |\n",
       "| 33 | BL,PTCL                                          |  2 |   1778 |  9 |  7 |  2 |\n",
       "| 50 | DLBCL,HL                                         |  2 |   1115 |  9 |  5 |  4 |\n",
       "| 4 | ALL,AML,BL,CLL,CML,DLBCL,FL,HL,MCL,MDS,MZLs,PTCL | 12 |  38318 | 10 |  2 |  8 |\n",
       "| 47 | CML,MZLs                                         |  2 |   1928 | 10 |  7 |  3 |\n",
       "| 10 | ALL,AML,BL,CLL,CML,HL,MCL,MDS,MM,MZLs,PTCL       | 11 |   2206 | 12 |  1 | 11 |\n",
       "| 14 | ALL,BL                                           |  2 |   9684 | 12 |  9 |  3 |\n",
       "| 19 | ALL,HL                                           |  2 |   3795 | 12 | 11 |  1 |\n",
       "| 26 | AML,MDS                                          |  2 |   1152 | 12 |  9 |  3 |\n",
       "| 27 | AML,MM                                           |  2 |   6132 | 12 |  9 |  3 |\n",
       "| 37 | CLL,FL                                           |  2 |   1790 | 12 | 10 |  2 |\n",
       "| 40 | CLL,MM                                           |  2 |   3132 | 12 |  9 |  3 |\n",
       "| 44 | CML,MCL                                          |  2 |    858 | 12 | 11 |  1 |\n",
       "| ⋮ | ⋮ | ⋮ | ⋮ | ⋮ | ⋮ | ⋮ |\n",
       "| 56 | FL,MDS                                              |  2 |     6901 |    23 |  20 |     3 |\n",
       "| 63 | MCL,MZLs                                            |  2 |    11460 |    24 |  21 |     3 |\n",
       "| 52 | DLBCL,PTCL                                          |  2 |     3374 |    25 |  21 |     4 |\n",
       "| 65 | MDS,MZLs                                            |  2 |     3364 |    30 |  27 |     3 |\n",
       "| 2 | ALL,AML,BL,CLL,CML,DLBCL,FL,HL,MCL,MDS,MM,MZLs      | 12 |     3461 |    36 |   2 |    34 |\n",
       "| 6 | ALL,AML,BL,CLL,CML,DLBCL,FL,MCL,MDS,MM,MZLs,PTCL    | 12 |    13040 |    37 |   3 |    34 |\n",
       "| 8 | ALL,AML,BL,CLL,CML,DLBCL,MCL,MDS,MM,MZLs,PTCL       | 11 |    43342 |    46 |  20 |    26 |\n",
       "| 18 | ALL,CML                                             |  2 |     6132 |   166 |   1 |   165 |\n",
       "| 28 | AML,PTCL                                            |  2 |     5727 |   211 |   1 |   210 |\n",
       "| 51 | DLBCL,MCL                                           |  2 |     5206 |   267 | 266 |     1 |\n",
       "| 20 | ALL,MDS                                             |  2 |    13018 |   286 | 283 |     3 |\n",
       "| 59 | HL,MDS                                              |  2 |     1425 |   287 | 285 |     2 |\n",
       "| 43 | CML,HL                                              |  2 |    35164 |   296 | 292 |     4 |\n",
       "| 38 | CLL,HL                                              |  2 |    37407 |   308 | 303 |     5 |\n",
       "| 30 | BL,CLL                                              |  2 |    84107 |   312 |   2 |   310 |\n",
       "| 7 | ALL,AML,BL,CLL,CML,DLBCL,HL,MCL,MDS,MM,MZLs,PTCL    | 12 |   370404 |  1384 |  89 |  1295 |\n",
       "| 41 | CML                                                 |  1 |   518678 | 14611 | 849 | 13762 |\n",
       "| 1 | ALL                                                 |  1 |   650984 | 16216 | 701 | 15515 |\n",
       "| 70 | PTCL                                                |  1 |  1239423 | 16246 | 726 | 15520 |\n",
       "| 21 | AML                                                 |  1 |   823494 | 16260 | 814 | 15446 |\n",
       "| 67 | MM                                                  |  1 |  1681138 | 16292 | 851 | 15441 |\n",
       "| 34 | CLL                                                 |  1 |   963073 | 16307 | 778 | 15529 |\n",
       "| 62 | MCL                                                 |  1 |  2124660 | 16359 | 838 | 15521 |\n",
       "| 69 | MZLs                                                |  1 |  1362565 | 16376 | 800 | 15576 |\n",
       "| 48 | DLBCL                                               |  1 |  2055012 | 16388 | 847 | 15541 |\n",
       "| 29 | BL                                                  |  1 |   943556 | 16397 | 781 | 15616 |\n",
       "| 58 | HL                                                  |  1 |  1200054 | 16424 | 839 | 15585 |\n",
       "| 64 | MDS                                                 |  1 |  2093424 | 16445 | 751 | 15694 |\n",
       "| 3 | ALL,AML,BL,CLL,CML,DLBCL,FL,HL,MCL,MDS,MM,MZLs,PTCL | 13 | 12914727 | 16450 | 891 | 15559 |\n",
       "| 53 | FL                                                  |  1 |  2874820 | 16494 | 883 | 15611 |\n",
       "\n"
      ],
      "text/plain": [
       "   diseases                                            N_diseases vol     \n",
       "5  ALL,AML,BL,CLL,CML,DLBCL,FL,HL,MDS,MM,MZLs,PTCL     12          16371  \n",
       "11 ALL,AML,BL,CML,DLBCL,FL,HL,MCL,MDS,MM,MZLs,PTCL     12          40266  \n",
       "12 ALL,AML,CLL,CML,DLBCL,FL,HL,MCL,MDS,MM,MZLs,PTCL    12           1278  \n",
       "13 ALL,AML,CLL,CML,FL,HL,MCL,MDS,MM,MZLs,PTCL          11          17434  \n",
       "16 ALL,BL,CLL,CML,FL,HL,MCL,MDS,MM,MZLs,PTCL           11           2325  \n",
       "22 AML,BL,CLL,CML,DLBCL,FL,HL,MCL,MDS,MM,MZLs          11           7488  \n",
       "24 AML,CLL,CML,DLBCL,FL,HL,MCL,MDS,MM,MZLs,PTCL        11           2163  \n",
       "49 DLBCL,FL,PTCL                                        3           2317  \n",
       "60 HL,MM                                                2         414018  \n",
       "9  ALL,AML,BL,CLL,CML,FL,HL,MCL,MDS,MM,MZLs,PTCL       12           7780  \n",
       "36 CLL,DLBCL                                            2           1086  \n",
       "15 ALL,BL,CLL,CML,DLBCL,FL,HL,MCL,MDS,MM,MZLs,PTCL     12           5421  \n",
       "35 CLL,CML                                              2            465  \n",
       "45 CML,MDS                                              2           1582  \n",
       "61 HL,MZLs                                              2            795  \n",
       "32 BL,MDS                                               2           1206  \n",
       "55 FL,MCL                                               2           7384  \n",
       "17 ALL,CLL                                              2           2655  \n",
       "33 BL,PTCL                                              2           1778  \n",
       "50 DLBCL,HL                                             2           1115  \n",
       "4  ALL,AML,BL,CLL,CML,DLBCL,FL,HL,MCL,MDS,MZLs,PTCL    12          38318  \n",
       "47 CML,MZLs                                             2           1928  \n",
       "10 ALL,AML,BL,CLL,CML,HL,MCL,MDS,MM,MZLs,PTCL          11           2206  \n",
       "14 ALL,BL                                               2           9684  \n",
       "19 ALL,HL                                               2           3795  \n",
       "26 AML,MDS                                              2           1152  \n",
       "27 AML,MM                                               2           6132  \n",
       "37 CLL,FL                                               2           1790  \n",
       "40 CLL,MM                                               2           3132  \n",
       "44 CML,MCL                                              2            858  \n",
       "⋮  ⋮                                                   ⋮          ⋮       \n",
       "56 FL,MDS                                               2             6901\n",
       "63 MCL,MZLs                                             2            11460\n",
       "52 DLBCL,PTCL                                           2             3374\n",
       "65 MDS,MZLs                                             2             3364\n",
       "2  ALL,AML,BL,CLL,CML,DLBCL,FL,HL,MCL,MDS,MM,MZLs      12             3461\n",
       "6  ALL,AML,BL,CLL,CML,DLBCL,FL,MCL,MDS,MM,MZLs,PTCL    12            13040\n",
       "8  ALL,AML,BL,CLL,CML,DLBCL,MCL,MDS,MM,MZLs,PTCL       11            43342\n",
       "18 ALL,CML                                              2             6132\n",
       "28 AML,PTCL                                             2             5727\n",
       "51 DLBCL,MCL                                            2             5206\n",
       "20 ALL,MDS                                              2            13018\n",
       "59 HL,MDS                                               2             1425\n",
       "43 CML,HL                                               2            35164\n",
       "38 CLL,HL                                               2            37407\n",
       "30 BL,CLL                                               2            84107\n",
       "7  ALL,AML,BL,CLL,CML,DLBCL,HL,MCL,MDS,MM,MZLs,PTCL    12           370404\n",
       "41 CML                                                  1           518678\n",
       "1  ALL                                                  1           650984\n",
       "70 PTCL                                                 1          1239423\n",
       "21 AML                                                  1           823494\n",
       "67 MM                                                   1          1681138\n",
       "34 CLL                                                  1           963073\n",
       "62 MCL                                                  1          2124660\n",
       "69 MZLs                                                 1          1362565\n",
       "48 DLBCL                                                1          2055012\n",
       "29 BL                                                   1           943556\n",
       "58 HL                                                   1          1200054\n",
       "64 MDS                                                  1          2093424\n",
       "3  ALL,AML,BL,CLL,CML,DLBCL,FL,HL,MCL,MDS,MM,MZLs,PTCL 13         12914727\n",
       "53 FL                                                   1          2874820\n",
       "   n_connected_nodes n_connected_genes n_connected_tfs\n",
       "5   0                 0                 0             \n",
       "11  0                 0                 0             \n",
       "12  0                 0                 0             \n",
       "13  0                 0                 0             \n",
       "16  0                 0                 0             \n",
       "22  0                 0                 0             \n",
       "24  0                 0                 0             \n",
       "49  0                 0                 0             \n",
       "60  2                 1                 1             \n",
       "9   5                 1                 4             \n",
       "36  5                 3                 2             \n",
       "15  7                 1                 6             \n",
       "35  7                 5                 2             \n",
       "45  7                 2                 5             \n",
       "61  7                 5                 2             \n",
       "32  8                 6                 2             \n",
       "55  8                 4                 4             \n",
       "17  9                 5                 4             \n",
       "33  9                 7                 2             \n",
       "50  9                 5                 4             \n",
       "4  10                 2                 8             \n",
       "47 10                 7                 3             \n",
       "10 12                 1                11             \n",
       "14 12                 9                 3             \n",
       "19 12                11                 1             \n",
       "26 12                 9                 3             \n",
       "27 12                 9                 3             \n",
       "37 12                10                 2             \n",
       "40 12                 9                 3             \n",
       "44 12                11                 1             \n",
       "⋮  ⋮                 ⋮                 ⋮              \n",
       "56    23              20                   3          \n",
       "63    24              21                   3          \n",
       "52    25              21                   4          \n",
       "65    30              27                   3          \n",
       "2     36               2                  34          \n",
       "6     37               3                  34          \n",
       "8     46              20                  26          \n",
       "18   166               1                 165          \n",
       "28   211               1                 210          \n",
       "51   267             266                   1          \n",
       "20   286             283                   3          \n",
       "59   287             285                   2          \n",
       "43   296             292                   4          \n",
       "38   308             303                   5          \n",
       "30   312               2                 310          \n",
       "7   1384              89                1295          \n",
       "41 14611             849               13762          \n",
       "1  16216             701               15515          \n",
       "70 16246             726               15520          \n",
       "21 16260             814               15446          \n",
       "67 16292             851               15441          \n",
       "34 16307             778               15529          \n",
       "62 16359             838               15521          \n",
       "69 16376             800               15576          \n",
       "48 16388             847               15541          \n",
       "29 16397             781               15616          \n",
       "58 16424             839               15585          \n",
       "64 16445             751               15694          \n",
       "3  16450             891               15559          \n",
       "53 16494             883               15611          "
      ]
     },
     "metadata": {},
     "output_type": "display_data"
    }
   ],
   "source": [
    "network_stats[ \n",
    "    order(as.numeric(network_stats$n_connected_nodes), decreasing=FALSE), \n",
    "    c(\"diseases\", \"N_diseases\", \"vol\", \"n_connected_nodes\", \"n_connected_genes\", \"n_connected_tfs\")\n",
    "]\n",
    "\n",
    "results_path <- \"/home/PERSONALE/federico.magnani9/gepoh/main_results/\"\n",
    "write.csv(network_stats, paste(results_path, \"network_stats.csv\", sep=''))"
   ]
  },
  {
   "cell_type": "code",
   "execution_count": null,
   "metadata": {
    "vscode": {
     "languageId": "r"
    }
   },
   "outputs": [],
   "source": []
  },
  {
   "cell_type": "code",
   "execution_count": null,
   "metadata": {
    "vscode": {
     "languageId": "r"
    }
   },
   "outputs": [],
   "source": []
  },
  {
   "cell_type": "code",
   "execution_count": null,
   "metadata": {
    "vscode": {
     "languageId": "r"
    }
   },
   "outputs": [],
   "source": []
  },
  {
   "cell_type": "code",
   "execution_count": null,
   "metadata": {
    "vscode": {
     "languageId": "r"
    }
   },
   "outputs": [],
   "source": []
  },
  {
   "cell_type": "code",
   "execution_count": null,
   "metadata": {
    "vscode": {
     "languageId": "r"
    }
   },
   "outputs": [],
   "source": []
  },
  {
   "cell_type": "code",
   "execution_count": null,
   "metadata": {
    "vscode": {
     "languageId": "r"
    }
   },
   "outputs": [],
   "source": []
  },
  {
   "cell_type": "code",
   "execution_count": null,
   "metadata": {
    "vscode": {
     "languageId": "r"
    }
   },
   "outputs": [],
   "source": []
  }
 ],
 "metadata": {
  "kernelspec": {
   "display_name": "R",
   "language": "R",
   "name": "ir"
  },
  "language_info": {
   "codemirror_mode": "r",
   "file_extension": ".r",
   "mimetype": "text/x-r-source",
   "name": "R",
   "pygments_lexer": "r",
   "version": "4.2.0"
  },
  "orig_nbformat": 4
 },
 "nbformat": 4,
 "nbformat_minor": 2
}
