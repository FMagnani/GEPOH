{
 "cells": [
  {
   "cell_type": "code",
   "execution_count": 136,
   "metadata": {
    "vscode": {
     "languageId": "r"
    }
   },
   "outputs": [
    {
     "name": "stdout",
     "output_type": "stream",
     "text": [
      "\n",
      "    Importing libraries: data.table\n",
      "\n",
      "    \n",
      "    Utils are loaded! ^_^ \n",
      "\n",
      "    Useful objects:\n",
      "\n",
      "    \tload_data\n",
      "\n",
      "    \tsignatures_and_splits\n",
      "\n",
      "    \tfisher_wrt_splits\n",
      "    "
     ]
    }
   ],
   "source": [
    "source(\"/home/PERSONALE/federico.magnani9/gepoh/utils.r\")"
   ]
  },
  {
   "cell_type": "code",
   "execution_count": 145,
   "metadata": {
    "vscode": {
     "languageId": "r"
    }
   },
   "outputs": [
    {
     "data": {
      "text/html": [
       "<style>\n",
       ".list-inline {list-style: none; margin:0; padding: 0}\n",
       ".list-inline>li {display: inline-block}\n",
       ".list-inline>li:not(:last-child)::after {content: \"\\00b7\"; padding: 0 .5ex}\n",
       "</style>\n",
       "<ol class=list-inline><li>'diseases'</li><li>'tfs'</li><li>'genes'</li><li>'binary_networks'</li><li>'triclusters'</li><li>'signatures'</li><li>'splits'</li><li>'fisher_wrt_splits'</li></ol>\n"
      ],
      "text/latex": [
       "\\begin{enumerate*}\n",
       "\\item 'diseases'\n",
       "\\item 'tfs'\n",
       "\\item 'genes'\n",
       "\\item 'binary\\_networks'\n",
       "\\item 'triclusters'\n",
       "\\item 'signatures'\n",
       "\\item 'splits'\n",
       "\\item 'fisher\\_wrt\\_splits'\n",
       "\\end{enumerate*}\n"
      ],
      "text/markdown": [
       "1. 'diseases'\n",
       "2. 'tfs'\n",
       "3. 'genes'\n",
       "4. 'binary_networks'\n",
       "5. 'triclusters'\n",
       "6. 'signatures'\n",
       "7. 'splits'\n",
       "8. 'fisher_wrt_splits'\n",
       "\n",
       "\n"
      ],
      "text/plain": [
       "[1] \"diseases\"          \"tfs\"               \"genes\"            \n",
       "[4] \"binary_networks\"   \"triclusters\"       \"signatures\"       \n",
       "[7] \"splits\"            \"fisher_wrt_splits\""
      ]
     },
     "metadata": {},
     "output_type": "display_data"
    },
    {
     "data": {
      "text/html": [
       "<style>\n",
       ".list-inline {list-style: none; margin:0; padding: 0}\n",
       ".list-inline>li {display: inline-block}\n",
       ".list-inline>li:not(:last-child)::after {content: \"\\00b7\"; padding: 0 .5ex}\n",
       "</style>\n",
       "<ol class=list-inline><li>'load_disregnet_tensor'</li><li>'get_signature'</li><li>'digitsum'</li><li>'complement_code'</li><li>'signature2split'</li></ol>\n"
      ],
      "text/latex": [
       "\\begin{enumerate*}\n",
       "\\item 'load\\_disregnet\\_tensor'\n",
       "\\item 'get\\_signature'\n",
       "\\item 'digitsum'\n",
       "\\item 'complement\\_code'\n",
       "\\item 'signature2split'\n",
       "\\end{enumerate*}\n"
      ],
      "text/markdown": [
       "1. 'load_disregnet_tensor'\n",
       "2. 'get_signature'\n",
       "3. 'digitsum'\n",
       "4. 'complement_code'\n",
       "5. 'signature2split'\n",
       "\n",
       "\n"
      ],
      "text/plain": [
       "[1] \"load_disregnet_tensor\" \"get_signature\"         \"digitsum\"             \n",
       "[4] \"complement_code\"       \"signature2split\"      "
      ]
     },
     "metadata": {},
     "output_type": "display_data"
    },
    {
     "data": {
      "text/html": [
       "<style>\n",
       ".list-inline {list-style: none; margin:0; padding: 0}\n",
       ".list-inline>li {display: inline-block}\n",
       ".list-inline>li:not(:last-child)::after {content: \"\\00b7\"; padding: 0 .5ex}\n",
       "</style>\n",
       "<ol class=list-inline><li>'diseases2code'</li><li>'perform_fisher'</li></ol>\n"
      ],
      "text/latex": [
       "\\begin{enumerate*}\n",
       "\\item 'diseases2code'\n",
       "\\item 'perform\\_fisher'\n",
       "\\end{enumerate*}\n"
      ],
      "text/markdown": [
       "1. 'diseases2code'\n",
       "2. 'perform_fisher'\n",
       "\n",
       "\n"
      ],
      "text/plain": [
       "[1] \"diseases2code\"  \"perform_fisher\""
      ]
     },
     "metadata": {},
     "output_type": "display_data"
    }
   ],
   "source": [
    "names(load_data)\n",
    "names(signatures_and_splits)\n",
    "names(fisher_wrt_splits)\n",
    "\n",
    "diseases <- load_data$diseases()\n",
    "tfs <- load_data$tfs()\n",
    "genes <- load_data$genes()\n",
    "triclusters_df <- load_data$triclusters()\n",
    "binary_networks <- load_data$binary_networks()\n"
   ]
  },
  {
   "cell_type": "markdown",
   "metadata": {},
   "source": [
    "# Compute Signatures and Splits"
   ]
  },
  {
   "cell_type": "code",
   "execution_count": 42,
   "metadata": {
    "vscode": {
     "languageId": "r"
    }
   },
   "outputs": [],
   "source": [
    "# Make tensor with dimensions: diseases, genes, tfs\n",
    "disregnets <- signatures_and_splits$load_disregnet_tensor()"
   ]
  },
  {
   "cell_type": "code",
   "execution_count": 51,
   "metadata": {
    "vscode": {
     "languageId": "r"
    }
   },
   "outputs": [],
   "source": [
    "# Collapse tensor wrt diseases, saving in each entry of the resulting matrix the string code of the entries in the diseases direction\n",
    "signatures <- as.data.frame(apply(disregnets, c(2,3), signatures_and_splits$get_signature))\n",
    "colnames(signatures) <- tfs\n",
    "rownames(signatures) <- genes\n",
    "signatures <- t(signatures)"
   ]
  },
  {
   "cell_type": "code",
   "execution_count": 60,
   "metadata": {
    "vscode": {
     "languageId": "r"
    }
   },
   "outputs": [
    {
     "data": {
      "text/html": [
       "<table class=\"dataframe\">\n",
       "<caption>A matrix: 6 × 9 of type chr</caption>\n",
       "<thead>\n",
       "\t<tr><th></th><th scope=col>A1BG</th><th scope=col>A1BG-AS1</th><th scope=col>A1CF</th><th scope=col>A2M</th><th scope=col>A2M-AS1</th><th scope=col>A2ML1</th><th scope=col>A4GALT</th><th scope=col>A4GNT</th><th scope=col>AA06</th></tr>\n",
       "</thead>\n",
       "<tbody>\n",
       "\t<tr><th scope=row>AC023509.3</th><td>1111111111111</td><td>1111111111111</td><td>0000000000000</td><td>0000000000000</td><td>1111111111111</td><td>0000000000000</td><td>1111111111111</td><td>0000000000000</td><td>0000000000000</td></tr>\n",
       "\t<tr><th scope=row>AC138696.1</th><td>0000000000000</td><td>0000000000000</td><td>0000000000000</td><td>0000000000000</td><td>1000000000000</td><td>0000000000000</td><td>0000100100000</td><td>0000000000000</td><td>0000000000000</td></tr>\n",
       "\t<tr><th scope=row>AHR</th><td>0000000000000</td><td>0000000000000</td><td>0000000000000</td><td>0000000000000</td><td>1000000000000</td><td>0000000000000</td><td>0000100100000</td><td>0000000000000</td><td>0000000000000</td></tr>\n",
       "\t<tr><th scope=row>AHRR</th><td>0000000000000</td><td>0000000000000</td><td>0000000000000</td><td>0000000000000</td><td>1000000000000</td><td>0000000000000</td><td>0000100100000</td><td>0000000000000</td><td>0000000000000</td></tr>\n",
       "\t<tr><th scope=row>AIRE</th><td>0000000000000</td><td>0000000000000</td><td>0000000000000</td><td>0000000000000</td><td>1000000000000</td><td>0000000000000</td><td>0000100100000</td><td>1111111111111</td><td>0000000000000</td></tr>\n",
       "\t<tr><th scope=row>ALX1</th><td>0000000000000</td><td>0000000000000</td><td>0000000000000</td><td>0000000000000</td><td>1000000000000</td><td>0000000000000</td><td>0000100100000</td><td>0000000000000</td><td>0000000000000</td></tr>\n",
       "</tbody>\n",
       "</table>\n"
      ],
      "text/latex": [
       "A matrix: 6 × 9 of type chr\n",
       "\\begin{tabular}{r|lllllllll}\n",
       "  & A1BG & A1BG-AS1 & A1CF & A2M & A2M-AS1 & A2ML1 & A4GALT & A4GNT & AA06\\\\\n",
       "\\hline\n",
       "\tAC023509.3 & 1111111111111 & 1111111111111 & 0000000000000 & 0000000000000 & 1111111111111 & 0000000000000 & 1111111111111 & 0000000000000 & 0000000000000\\\\\n",
       "\tAC138696.1 & 0000000000000 & 0000000000000 & 0000000000000 & 0000000000000 & 1000000000000 & 0000000000000 & 0000100100000 & 0000000000000 & 0000000000000\\\\\n",
       "\tAHR & 0000000000000 & 0000000000000 & 0000000000000 & 0000000000000 & 1000000000000 & 0000000000000 & 0000100100000 & 0000000000000 & 0000000000000\\\\\n",
       "\tAHRR & 0000000000000 & 0000000000000 & 0000000000000 & 0000000000000 & 1000000000000 & 0000000000000 & 0000100100000 & 0000000000000 & 0000000000000\\\\\n",
       "\tAIRE & 0000000000000 & 0000000000000 & 0000000000000 & 0000000000000 & 1000000000000 & 0000000000000 & 0000100100000 & 1111111111111 & 0000000000000\\\\\n",
       "\tALX1 & 0000000000000 & 0000000000000 & 0000000000000 & 0000000000000 & 1000000000000 & 0000000000000 & 0000100100000 & 0000000000000 & 0000000000000\\\\\n",
       "\\end{tabular}\n"
      ],
      "text/markdown": [
       "\n",
       "A matrix: 6 × 9 of type chr\n",
       "\n",
       "| <!--/--> | A1BG | A1BG-AS1 | A1CF | A2M | A2M-AS1 | A2ML1 | A4GALT | A4GNT | AA06 |\n",
       "|---|---|---|---|---|---|---|---|---|---|\n",
       "| AC023509.3 | 1111111111111 | 1111111111111 | 0000000000000 | 0000000000000 | 1111111111111 | 0000000000000 | 1111111111111 | 0000000000000 | 0000000000000 |\n",
       "| AC138696.1 | 0000000000000 | 0000000000000 | 0000000000000 | 0000000000000 | 1000000000000 | 0000000000000 | 0000100100000 | 0000000000000 | 0000000000000 |\n",
       "| AHR | 0000000000000 | 0000000000000 | 0000000000000 | 0000000000000 | 1000000000000 | 0000000000000 | 0000100100000 | 0000000000000 | 0000000000000 |\n",
       "| AHRR | 0000000000000 | 0000000000000 | 0000000000000 | 0000000000000 | 1000000000000 | 0000000000000 | 0000100100000 | 0000000000000 | 0000000000000 |\n",
       "| AIRE | 0000000000000 | 0000000000000 | 0000000000000 | 0000000000000 | 1000000000000 | 0000000000000 | 0000100100000 | 1111111111111 | 0000000000000 |\n",
       "| ALX1 | 0000000000000 | 0000000000000 | 0000000000000 | 0000000000000 | 1000000000000 | 0000000000000 | 0000100100000 | 0000000000000 | 0000000000000 |\n",
       "\n"
      ],
      "text/plain": [
       "           A1BG          A1BG-AS1      A1CF          A2M          \n",
       "AC023509.3 1111111111111 1111111111111 0000000000000 0000000000000\n",
       "AC138696.1 0000000000000 0000000000000 0000000000000 0000000000000\n",
       "AHR        0000000000000 0000000000000 0000000000000 0000000000000\n",
       "AHRR       0000000000000 0000000000000 0000000000000 0000000000000\n",
       "AIRE       0000000000000 0000000000000 0000000000000 0000000000000\n",
       "ALX1       0000000000000 0000000000000 0000000000000 0000000000000\n",
       "           A2M-AS1       A2ML1         A4GALT        A4GNT        \n",
       "AC023509.3 1111111111111 0000000000000 1111111111111 0000000000000\n",
       "AC138696.1 1000000000000 0000000000000 0000100100000 0000000000000\n",
       "AHR        1000000000000 0000000000000 0000100100000 0000000000000\n",
       "AHRR       1000000000000 0000000000000 0000100100000 0000000000000\n",
       "AIRE       1000000000000 0000000000000 0000100100000 1111111111111\n",
       "ALX1       1000000000000 0000000000000 0000100100000 0000000000000\n",
       "           AA06         \n",
       "AC023509.3 0000000000000\n",
       "AC138696.1 0000000000000\n",
       "AHR        0000000000000\n",
       "AHRR       0000000000000\n",
       "AIRE       0000000000000\n",
       "ALX1       0000000000000"
      ]
     },
     "metadata": {},
     "output_type": "display_data"
    }
   ],
   "source": [
    "signatures[1:6,1:9]\n",
    "\n",
    "results_path <- \"/home/PERSONALE/federico.magnani9/gepoh/main_results/\"\n",
    "write.csv(signatures, paste(results_path, \"signatures.csv\", sep=''))"
   ]
  },
  {
   "cell_type": "code",
   "execution_count": 61,
   "metadata": {
    "vscode": {
     "languageId": "r"
    }
   },
   "outputs": [
    {
     "data": {
      "text/html": [
       "<table class=\"dataframe\">\n",
       "<caption>A matrix: 6 × 9 of type chr</caption>\n",
       "<thead>\n",
       "\t<tr><th></th><th scope=col>A1BG</th><th scope=col>A1BG-AS1</th><th scope=col>A1CF</th><th scope=col>A2M</th><th scope=col>A2M-AS1</th><th scope=col>A2ML1</th><th scope=col>A4GALT</th><th scope=col>A4GNT</th><th scope=col>AA06</th></tr>\n",
       "</thead>\n",
       "<tbody>\n",
       "\t<tr><th scope=row>AC023509.3</th><td>1111111111111</td><td>1111111111111</td><td>1111111111111</td><td>1111111111111</td><td>1111111111111</td><td>1111111111111</td><td>1111111111111</td><td>1111111111111</td><td>1111111111111</td></tr>\n",
       "\t<tr><th scope=row>AC138696.1</th><td>1111111111111</td><td>1111111111111</td><td>1111111111111</td><td>1111111111111</td><td>0111111111111</td><td>1111111111111</td><td>1111011011111</td><td>1111111111111</td><td>1111111111111</td></tr>\n",
       "\t<tr><th scope=row>AHR</th><td>1111111111111</td><td>1111111111111</td><td>1111111111111</td><td>1111111111111</td><td>0111111111111</td><td>1111111111111</td><td>1111011011111</td><td>1111111111111</td><td>1111111111111</td></tr>\n",
       "\t<tr><th scope=row>AHRR</th><td>1111111111111</td><td>1111111111111</td><td>1111111111111</td><td>1111111111111</td><td>0111111111111</td><td>1111111111111</td><td>1111011011111</td><td>1111111111111</td><td>1111111111111</td></tr>\n",
       "\t<tr><th scope=row>AIRE</th><td>1111111111111</td><td>1111111111111</td><td>1111111111111</td><td>1111111111111</td><td>0111111111111</td><td>1111111111111</td><td>1111011011111</td><td>1111111111111</td><td>1111111111111</td></tr>\n",
       "\t<tr><th scope=row>ALX1</th><td>1111111111111</td><td>1111111111111</td><td>1111111111111</td><td>1111111111111</td><td>0111111111111</td><td>1111111111111</td><td>1111011011111</td><td>1111111111111</td><td>1111111111111</td></tr>\n",
       "</tbody>\n",
       "</table>\n"
      ],
      "text/latex": [
       "A matrix: 6 × 9 of type chr\n",
       "\\begin{tabular}{r|lllllllll}\n",
       "  & A1BG & A1BG-AS1 & A1CF & A2M & A2M-AS1 & A2ML1 & A4GALT & A4GNT & AA06\\\\\n",
       "\\hline\n",
       "\tAC023509.3 & 1111111111111 & 1111111111111 & 1111111111111 & 1111111111111 & 1111111111111 & 1111111111111 & 1111111111111 & 1111111111111 & 1111111111111\\\\\n",
       "\tAC138696.1 & 1111111111111 & 1111111111111 & 1111111111111 & 1111111111111 & 0111111111111 & 1111111111111 & 1111011011111 & 1111111111111 & 1111111111111\\\\\n",
       "\tAHR & 1111111111111 & 1111111111111 & 1111111111111 & 1111111111111 & 0111111111111 & 1111111111111 & 1111011011111 & 1111111111111 & 1111111111111\\\\\n",
       "\tAHRR & 1111111111111 & 1111111111111 & 1111111111111 & 1111111111111 & 0111111111111 & 1111111111111 & 1111011011111 & 1111111111111 & 1111111111111\\\\\n",
       "\tAIRE & 1111111111111 & 1111111111111 & 1111111111111 & 1111111111111 & 0111111111111 & 1111111111111 & 1111011011111 & 1111111111111 & 1111111111111\\\\\n",
       "\tALX1 & 1111111111111 & 1111111111111 & 1111111111111 & 1111111111111 & 0111111111111 & 1111111111111 & 1111011011111 & 1111111111111 & 1111111111111\\\\\n",
       "\\end{tabular}\n"
      ],
      "text/markdown": [
       "\n",
       "A matrix: 6 × 9 of type chr\n",
       "\n",
       "| <!--/--> | A1BG | A1BG-AS1 | A1CF | A2M | A2M-AS1 | A2ML1 | A4GALT | A4GNT | AA06 |\n",
       "|---|---|---|---|---|---|---|---|---|---|\n",
       "| AC023509.3 | 1111111111111 | 1111111111111 | 1111111111111 | 1111111111111 | 1111111111111 | 1111111111111 | 1111111111111 | 1111111111111 | 1111111111111 |\n",
       "| AC138696.1 | 1111111111111 | 1111111111111 | 1111111111111 | 1111111111111 | 0111111111111 | 1111111111111 | 1111011011111 | 1111111111111 | 1111111111111 |\n",
       "| AHR | 1111111111111 | 1111111111111 | 1111111111111 | 1111111111111 | 0111111111111 | 1111111111111 | 1111011011111 | 1111111111111 | 1111111111111 |\n",
       "| AHRR | 1111111111111 | 1111111111111 | 1111111111111 | 1111111111111 | 0111111111111 | 1111111111111 | 1111011011111 | 1111111111111 | 1111111111111 |\n",
       "| AIRE | 1111111111111 | 1111111111111 | 1111111111111 | 1111111111111 | 0111111111111 | 1111111111111 | 1111011011111 | 1111111111111 | 1111111111111 |\n",
       "| ALX1 | 1111111111111 | 1111111111111 | 1111111111111 | 1111111111111 | 0111111111111 | 1111111111111 | 1111011011111 | 1111111111111 | 1111111111111 |\n",
       "\n"
      ],
      "text/plain": [
       "           A1BG          A1BG-AS1      A1CF          A2M          \n",
       "AC023509.3 1111111111111 1111111111111 1111111111111 1111111111111\n",
       "AC138696.1 1111111111111 1111111111111 1111111111111 1111111111111\n",
       "AHR        1111111111111 1111111111111 1111111111111 1111111111111\n",
       "AHRR       1111111111111 1111111111111 1111111111111 1111111111111\n",
       "AIRE       1111111111111 1111111111111 1111111111111 1111111111111\n",
       "ALX1       1111111111111 1111111111111 1111111111111 1111111111111\n",
       "           A2M-AS1       A2ML1         A4GALT        A4GNT        \n",
       "AC023509.3 1111111111111 1111111111111 1111111111111 1111111111111\n",
       "AC138696.1 0111111111111 1111111111111 1111011011111 1111111111111\n",
       "AHR        0111111111111 1111111111111 1111011011111 1111111111111\n",
       "AHRR       0111111111111 1111111111111 1111011011111 1111111111111\n",
       "AIRE       0111111111111 1111111111111 1111011011111 1111111111111\n",
       "ALX1       0111111111111 1111111111111 1111011011111 1111111111111\n",
       "           AA06         \n",
       "AC023509.3 1111111111111\n",
       "AC138696.1 1111111111111\n",
       "AHR        1111111111111\n",
       "AHRR       1111111111111\n",
       "AIRE       1111111111111\n",
       "ALX1       1111111111111"
      ]
     },
     "metadata": {},
     "output_type": "display_data"
    }
   ],
   "source": [
    "splits <- apply(signatures, MARGIN=c(1,2), FUN=signatures_and_splits$signature2split)\n",
    "\n",
    "splits[1:6,1:9]\n",
    "\n",
    "results_path <- \"/home/PERSONALE/federico.magnani9/gepoh/main_results/\"\n",
    "write.csv(splits, paste(results_path, \"splits.csv\", sep=''))"
   ]
  },
  {
   "cell_type": "markdown",
   "metadata": {},
   "source": [
    "# Perform Fisher's test with splits"
   ]
  },
  {
   "cell_type": "code",
   "execution_count": 125,
   "metadata": {
    "vscode": {
     "languageId": "r"
    }
   },
   "outputs": [
    {
     "name": "stderr",
     "output_type": "stream",
     "text": [
      "iteartion 1000/23624...\n",
      "\n",
      "iteartion 2000/23624...\n",
      "\n",
      "iteartion 3000/23624...\n",
      "\n",
      "iteartion 4000/23624...\n",
      "\n",
      "iteartion 5000/23624...\n",
      "\n",
      "iteartion 6000/23624...\n",
      "\n",
      "iteartion 7000/23624...\n",
      "\n",
      "iteartion 8000/23624...\n",
      "\n",
      "iteartion 9000/23624...\n",
      "\n",
      "iteartion 10000/23624...\n",
      "\n",
      "iteartion 11000/23624...\n",
      "\n",
      "iteartion 12000/23624...\n",
      "\n",
      "iteartion 13000/23624...\n",
      "\n",
      "iteartion 14000/23624...\n",
      "\n",
      "iteartion 15000/23624...\n",
      "\n",
      "iteartion 16000/23624...\n",
      "\n",
      "iteartion 17000/23624...\n",
      "\n",
      "iteartion 18000/23624...\n",
      "\n",
      "iteartion 19000/23624...\n",
      "\n",
      "iteartion 20000/23624...\n",
      "\n",
      "iteartion 21000/23624...\n",
      "\n",
      "iteartion 22000/23624...\n",
      "\n",
      "iteartion 23000/23624...\n",
      "\n"
     ]
    },
    {
     "data": {
      "text/html": [
       "<table class=\"dataframe\">\n",
       "<caption>A data.frame: 6 × 6</caption>\n",
       "<thead>\n",
       "\t<tr><th></th><th scope=col>diseases</th><th scope=col>clusterIn</th><th scope=col>notClusterIn</th><th scope=col>clusterOut</th><th scope=col>notClusterOut</th><th scope=col>pval</th></tr>\n",
       "\t<tr><th></th><th scope=col>&lt;chr&gt;</th><th scope=col>&lt;dbl&gt;</th><th scope=col>&lt;dbl&gt;</th><th scope=col>&lt;dbl&gt;</th><th scope=col>&lt;dbl&gt;</th><th scope=col>&lt;dbl&gt;</th></tr>\n",
       "</thead>\n",
       "<tbody>\n",
       "\t<tr><th scope=row>1</th><td>ALL,AML,BL,CLL,CML,DLBCL,FL,HL,MCL,MDS,MM,MZLs,PTCL</td><td>7495092</td><td>      0</td><td> 7211034</td><td> 3792024</td><td>0</td></tr>\n",
       "\t<tr><th scope=row>2</th><td>ALL,AML,BL,CLL,CML,DLBCL,FL,HL,MCL,MDS,MM,MZLs,PTCL</td><td>2433816</td><td>      0</td><td>12272310</td><td> 3792024</td><td>0</td></tr>\n",
       "\t<tr><th scope=row>3</th><td>ALL,AML,BL,CLL,CML,DLBCL,HL,MCL,MDS,MM,MZLs,PTCL   </td><td>  17260</td><td> 101808</td><td>  213059</td><td>18166023</td><td>0</td></tr>\n",
       "\t<tr><th scope=row>4</th><td>ALL,AML,BL,CLL,CML,DLBCL,FL,HL,MCL,MDS,MM,MZLs,PTCL</td><td>  11270</td><td>      0</td><td>14694856</td><td> 3792024</td><td>0</td></tr>\n",
       "\t<tr><th scope=row>5</th><td>FL                                                 </td><td>  57813</td><td>2075971</td><td>  172506</td><td>16191860</td><td>0</td></tr>\n",
       "\t<tr><th scope=row>6</th><td>ALL,AML,BL,CLL,CML,DLBCL,HL,MCL,MDS,MM,MZLs,PTCL   </td><td>  15914</td><td>  49485</td><td>  214405</td><td>18218346</td><td>0</td></tr>\n",
       "</tbody>\n",
       "</table>\n"
      ],
      "text/latex": [
       "A data.frame: 6 × 6\n",
       "\\begin{tabular}{r|llllll}\n",
       "  & diseases & clusterIn & notClusterIn & clusterOut & notClusterOut & pval\\\\\n",
       "  & <chr> & <dbl> & <dbl> & <dbl> & <dbl> & <dbl>\\\\\n",
       "\\hline\n",
       "\t1 & ALL,AML,BL,CLL,CML,DLBCL,FL,HL,MCL,MDS,MM,MZLs,PTCL & 7495092 &       0 &  7211034 &  3792024 & 0\\\\\n",
       "\t2 & ALL,AML,BL,CLL,CML,DLBCL,FL,HL,MCL,MDS,MM,MZLs,PTCL & 2433816 &       0 & 12272310 &  3792024 & 0\\\\\n",
       "\t3 & ALL,AML,BL,CLL,CML,DLBCL,HL,MCL,MDS,MM,MZLs,PTCL    &   17260 &  101808 &   213059 & 18166023 & 0\\\\\n",
       "\t4 & ALL,AML,BL,CLL,CML,DLBCL,FL,HL,MCL,MDS,MM,MZLs,PTCL &   11270 &       0 & 14694856 &  3792024 & 0\\\\\n",
       "\t5 & FL                                                  &   57813 & 2075971 &   172506 & 16191860 & 0\\\\\n",
       "\t6 & ALL,AML,BL,CLL,CML,DLBCL,HL,MCL,MDS,MM,MZLs,PTCL    &   15914 &   49485 &   214405 & 18218346 & 0\\\\\n",
       "\\end{tabular}\n"
      ],
      "text/markdown": [
       "\n",
       "A data.frame: 6 × 6\n",
       "\n",
       "| <!--/--> | diseases &lt;chr&gt; | clusterIn &lt;dbl&gt; | notClusterIn &lt;dbl&gt; | clusterOut &lt;dbl&gt; | notClusterOut &lt;dbl&gt; | pval &lt;dbl&gt; |\n",
       "|---|---|---|---|---|---|---|\n",
       "| 1 | ALL,AML,BL,CLL,CML,DLBCL,FL,HL,MCL,MDS,MM,MZLs,PTCL | 7495092 |       0 |  7211034 |  3792024 | 0 |\n",
       "| 2 | ALL,AML,BL,CLL,CML,DLBCL,FL,HL,MCL,MDS,MM,MZLs,PTCL | 2433816 |       0 | 12272310 |  3792024 | 0 |\n",
       "| 3 | ALL,AML,BL,CLL,CML,DLBCL,HL,MCL,MDS,MM,MZLs,PTCL    |   17260 |  101808 |   213059 | 18166023 | 0 |\n",
       "| 4 | ALL,AML,BL,CLL,CML,DLBCL,FL,HL,MCL,MDS,MM,MZLs,PTCL |   11270 |       0 | 14694856 |  3792024 | 0 |\n",
       "| 5 | FL                                                  |   57813 | 2075971 |   172506 | 16191860 | 0 |\n",
       "| 6 | ALL,AML,BL,CLL,CML,DLBCL,HL,MCL,MDS,MM,MZLs,PTCL    |   15914 |   49485 |   214405 | 18218346 | 0 |\n",
       "\n"
      ],
      "text/plain": [
       "  diseases                                            clusterIn notClusterIn\n",
       "1 ALL,AML,BL,CLL,CML,DLBCL,FL,HL,MCL,MDS,MM,MZLs,PTCL 7495092         0     \n",
       "2 ALL,AML,BL,CLL,CML,DLBCL,FL,HL,MCL,MDS,MM,MZLs,PTCL 2433816         0     \n",
       "3 ALL,AML,BL,CLL,CML,DLBCL,HL,MCL,MDS,MM,MZLs,PTCL      17260    101808     \n",
       "4 ALL,AML,BL,CLL,CML,DLBCL,FL,HL,MCL,MDS,MM,MZLs,PTCL   11270         0     \n",
       "5 FL                                                    57813   2075971     \n",
       "6 ALL,AML,BL,CLL,CML,DLBCL,HL,MCL,MDS,MM,MZLs,PTCL      15914     49485     \n",
       "  clusterOut notClusterOut pval\n",
       "1  7211034    3792024      0   \n",
       "2 12272310    3792024      0   \n",
       "3   213059   18166023      0   \n",
       "4 14694856    3792024      0   \n",
       "5   172506   16191860      0   \n",
       "6   214405   18218346      0   "
      ]
     },
     "metadata": {},
     "output_type": "display_data"
    }
   ],
   "source": [
    "fisher_test <- fisher_wrt_splits$perform_fisher(splits, triclusters_df)\n",
    "\n",
    "head(fisher_test)"
   ]
  },
  {
   "cell_type": "code",
   "execution_count": 127,
   "metadata": {
    "vscode": {
     "languageId": "r"
    }
   },
   "outputs": [],
   "source": [
    "results_path <- \"/home/PERSONALE/federico.magnani9/gepoh/main_results/\"\n",
    "write.csv(fisher_test, paste(results_path, \"fisher_wrt_splits.csv\", sep=''))"
   ]
  },
  {
   "cell_type": "code",
   "execution_count": 147,
   "metadata": {
    "vscode": {
     "languageId": "r"
    }
   },
   "outputs": [
    {
     "data": {
      "text/plain": [
       "\n",
       "FALSE  TRUE \n",
       "21049  2575 "
      ]
     },
     "metadata": {},
     "output_type": "display_data"
    },
    {
     "data": {
      "text/plain": [
       "left\n",
       "FALSE  TRUE \n",
       "15247  8377 "
      ]
     },
     "metadata": {},
     "output_type": "display_data"
    },
    {
     "data": {
      "text/plain": [
       "\n",
       "FALSE  TRUE \n",
       "21976  1648 "
      ]
     },
     "metadata": {},
     "output_type": "display_data"
    }
   ],
   "source": [
    "bonferroni <- TRUE\n",
    "adjust <- 1\n",
    "if(bonferroni){adjust <- nrow(fisher_test)}\n",
    "left <- fisher_test$pval<0.01/adjust\n",
    "\n",
    "garbage <- (fisher_test$clusterIn < ((fisher_test$clusterIn+fisher_test$clusterOut)/(fisher_test$clusterIn+fisher_test$notClusterIn)))\n",
    "\n",
    "table(!garbage)\n",
    "table(left)\n",
    "table(left&!garbage)"
   ]
  },
  {
   "cell_type": "code",
   "execution_count": 148,
   "metadata": {
    "vscode": {
     "languageId": "r"
    }
   },
   "outputs": [
    {
     "data": {
      "text/html": [
       "70"
      ],
      "text/latex": [
       "70"
      ],
      "text/markdown": [
       "70"
      ],
      "text/plain": [
       "[1] 70"
      ]
     },
     "metadata": {},
     "output_type": "display_data"
    },
    {
     "data": {
      "text/html": [
       "<table class=\"dataframe\">\n",
       "<caption>A data.frame: 6 × 3</caption>\n",
       "<thead>\n",
       "\t<tr><th></th><th scope=col>diseases</th><th scope=col>vol</th><th scope=col>N_diseases</th></tr>\n",
       "\t<tr><th></th><th scope=col>&lt;chr&gt;</th><th scope=col>&lt;int&gt;</th><th scope=col>&lt;int&gt;</th></tr>\n",
       "</thead>\n",
       "<tbody>\n",
       "\t<tr><th scope=row>1</th><td>ALL                                                </td><td>  650984</td><td> 1</td></tr>\n",
       "\t<tr><th scope=row>2</th><td>ALL,AML,BL,CLL,CML,DLBCL,FL,HL,MCL,MDS,MM,MZLs     </td><td>    3461</td><td>12</td></tr>\n",
       "\t<tr><th scope=row>3</th><td>ALL,AML,BL,CLL,CML,DLBCL,FL,HL,MCL,MDS,MM,MZLs,PTCL</td><td>12914727</td><td>13</td></tr>\n",
       "\t<tr><th scope=row>4</th><td>ALL,AML,BL,CLL,CML,DLBCL,FL,HL,MCL,MDS,MZLs,PTCL   </td><td>   38318</td><td>12</td></tr>\n",
       "\t<tr><th scope=row>5</th><td>ALL,AML,BL,CLL,CML,DLBCL,FL,HL,MDS,MM,MZLs,PTCL    </td><td>   16371</td><td>12</td></tr>\n",
       "\t<tr><th scope=row>6</th><td>ALL,AML,BL,CLL,CML,DLBCL,FL,MCL,MDS,MM,MZLs,PTCL   </td><td>   13040</td><td>12</td></tr>\n",
       "</tbody>\n",
       "</table>\n"
      ],
      "text/latex": [
       "A data.frame: 6 × 3\n",
       "\\begin{tabular}{r|lll}\n",
       "  & diseases & vol & N\\_diseases\\\\\n",
       "  & <chr> & <int> & <int>\\\\\n",
       "\\hline\n",
       "\t1 & ALL                                                 &   650984 &  1\\\\\n",
       "\t2 & ALL,AML,BL,CLL,CML,DLBCL,FL,HL,MCL,MDS,MM,MZLs      &     3461 & 12\\\\\n",
       "\t3 & ALL,AML,BL,CLL,CML,DLBCL,FL,HL,MCL,MDS,MM,MZLs,PTCL & 12914727 & 13\\\\\n",
       "\t4 & ALL,AML,BL,CLL,CML,DLBCL,FL,HL,MCL,MDS,MZLs,PTCL    &    38318 & 12\\\\\n",
       "\t5 & ALL,AML,BL,CLL,CML,DLBCL,FL,HL,MDS,MM,MZLs,PTCL     &    16371 & 12\\\\\n",
       "\t6 & ALL,AML,BL,CLL,CML,DLBCL,FL,MCL,MDS,MM,MZLs,PTCL    &    13040 & 12\\\\\n",
       "\\end{tabular}\n"
      ],
      "text/markdown": [
       "\n",
       "A data.frame: 6 × 3\n",
       "\n",
       "| <!--/--> | diseases &lt;chr&gt; | vol &lt;int&gt; | N_diseases &lt;int&gt; |\n",
       "|---|---|---|---|\n",
       "| 1 | ALL                                                 |   650984 |  1 |\n",
       "| 2 | ALL,AML,BL,CLL,CML,DLBCL,FL,HL,MCL,MDS,MM,MZLs      |     3461 | 12 |\n",
       "| 3 | ALL,AML,BL,CLL,CML,DLBCL,FL,HL,MCL,MDS,MM,MZLs,PTCL | 12914727 | 13 |\n",
       "| 4 | ALL,AML,BL,CLL,CML,DLBCL,FL,HL,MCL,MDS,MZLs,PTCL    |    38318 | 12 |\n",
       "| 5 | ALL,AML,BL,CLL,CML,DLBCL,FL,HL,MDS,MM,MZLs,PTCL     |    16371 | 12 |\n",
       "| 6 | ALL,AML,BL,CLL,CML,DLBCL,FL,MCL,MDS,MM,MZLs,PTCL    |    13040 | 12 |\n",
       "\n"
      ],
      "text/plain": [
       "  diseases                                            vol      N_diseases\n",
       "1 ALL                                                   650984  1        \n",
       "2 ALL,AML,BL,CLL,CML,DLBCL,FL,HL,MCL,MDS,MM,MZLs          3461 12        \n",
       "3 ALL,AML,BL,CLL,CML,DLBCL,FL,HL,MCL,MDS,MM,MZLs,PTCL 12914727 13        \n",
       "4 ALL,AML,BL,CLL,CML,DLBCL,FL,HL,MCL,MDS,MZLs,PTCL       38318 12        \n",
       "5 ALL,AML,BL,CLL,CML,DLBCL,FL,HL,MDS,MM,MZLs,PTCL        16371 12        \n",
       "6 ALL,AML,BL,CLL,CML,DLBCL,FL,MCL,MDS,MM,MZLs,PTCL       13040 12        "
      ]
     },
     "metadata": {},
     "output_type": "display_data"
    }
   ],
   "source": [
    "#--- Aggregate significative clusters with respect to diseases ---#\n",
    "\n",
    "# Compute vol\n",
    "triclusters_df$vol <- triclusters_df$N_tfs*triclusters_df$N_genes\n",
    "\n",
    "# Filter the original dataframe since it's aligned with the dataframe of fisher's test\n",
    "significative_triclusters <- triclusters_df[left&!garbage,]\n",
    "\n",
    "# The volume of the aggregating rows is summed\n",
    "aggregate_df <- aggregate(significative_triclusters$vol, by=list(diseases=significative_triclusters$diseases), FUN=sum)\n",
    "aggregate_df$vol <- aggregate_df$x\n",
    "aggregate_df$x <- NULL\n",
    "\n",
    "# Recover the number of diseases from the cluster name\n",
    "N_diseases <- list()\n",
    "for (i in 1:nrow(aggregate_df)){    \n",
    "    N_diseases <- c(N_diseases, length(strsplit(aggregate_df[i,]$diseases, ',')[[1]]))\n",
    "}     \n",
    "aggregate_df[\"N_diseases\"] <- unlist(N_diseases)\n",
    "\n",
    "nrow(aggregate_df)\n",
    "head(aggregate_df)"
   ]
  },
  {
   "cell_type": "code",
   "execution_count": null,
   "metadata": {
    "vscode": {
     "languageId": "r"
    }
   },
   "outputs": [],
   "source": []
  }
 ],
 "metadata": {
  "kernelspec": {
   "display_name": "R",
   "language": "R",
   "name": "ir"
  },
  "language_info": {
   "codemirror_mode": "r",
   "file_extension": ".r",
   "mimetype": "text/x-r-source",
   "name": "R",
   "pygments_lexer": "r",
   "version": "4.2.0"
  },
  "orig_nbformat": 4
 },
 "nbformat": 4,
 "nbformat_minor": 2
}
